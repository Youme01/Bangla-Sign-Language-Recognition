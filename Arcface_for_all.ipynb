{
 "cells": [
  {
   "cell_type": "code",
   "execution_count": 1,
   "metadata": {},
   "outputs": [],
   "source": [
    "#imports\n",
    "import os\n",
    "import torch\n",
    "import torchvision\n",
    "import torch.nn as nn\n",
    "import torch.optim as optim\n",
    "import torch.nn.functional as F\n",
    "from torch.utils.data import DataLoader\n",
    "from torchvision.datasets import ImageFolder\n",
    "from torchvision.transforms import ToTensor, Normalize\n",
    "import torchvision.datasets as datasets\n",
    "import torchvision.transforms as transforms\n",
    "import torch.optim.lr_scheduler as lr_scheduler\n",
    "from torch.nn import Parameter\n",
    "import math"
   ]
  },
  {
   "cell_type": "code",
   "execution_count": 2,
   "metadata": {},
   "outputs": [],
   "source": [
    "#directories\n",
    "BDSL_TRAIN = 'E:/Bangla Sign Alphabet/Bangla Sign Alphabet Data/BDSL/BDSL_split/train'\n",
    "BDSL_VAL = 'E:/Bangla Sign Alphabet/Bangla Sign Alphabet Data/BDSL/BDSL_split/val'\n",
    "BDSL_TEST = 'E:/Bangla Sign Alphabet/Bangla Sign Alphabet Data/BDSL/BDSL_split/test'\n",
    "\n",
    "ISHARA_AUGMENTED_TRAIN = 'E:/Bangla Sign Alphabet/Bangla Sign Alphabet Data/Isharalipi_augmentated/Isharalipi_augmentated_split/train'\n",
    "ISHARA_AUGMENTED_VAL = 'E:/Bangla Sign Alphabet/Bangla Sign Alphabet Data/Isharalipi_augmentated/Isharalipi_augmentated_split/val'\n",
    "ISHARA_AUGMENTED_TEST = 'E:/Bangla Sign Alphabet/Bangla Sign Alphabet Data/Isharalipi_augmentated/Isharalipi_augmentated_split/test'\n",
    "\n",
    "ISHARA_MAIN = 'E:/Bangla Sign Alphabet/Bangla Sign Alphabet Data/Isharalipi_original/Isharalipi_original_main'"
   ]
  },
  {
   "cell_type": "code",
   "execution_count": 3,
   "metadata": {},
   "outputs": [],
   "source": [
    "TRAIN_DIRECTORY = ISHARA_AUGMENTED_TRAIN\n",
    "VAL_DIRECTORY = ISHARA_AUGMENTED_VAL\n",
    "TEST_DIRECTORY = BDSL_TEST"
   ]
  },
  {
   "cell_type": "code",
   "execution_count": 4,
   "metadata": {},
   "outputs": [
    {
     "name": "stdout",
     "output_type": "stream",
     "text": [
      "['10', '11', '12', '13', '14', '15', '16', '17', '18', '19', '20', '21', '22', '23', '24', '25', '26', '27', '28', '29', '30', '31', '32', '33', '34', '35', '36', '37', '38', '39', '40', '41', '42', '43', '44']\n"
     ]
    }
   ],
   "source": [
    "print(os.listdir(TRAIN_DIRECTORY))"
   ]
  },
  {
   "cell_type": "code",
   "execution_count": 5,
   "metadata": {},
   "outputs": [],
   "source": [
    "# Device configuration\n",
    "device = torch.device('cuda' if torch.cuda.is_available() else 'cpu')"
   ]
  },
  {
   "cell_type": "code",
   "execution_count": 6,
   "metadata": {},
   "outputs": [],
   "source": [
    "# Hyper-parameters \n",
    "num_epochs = 35\n",
    "batch_size = 100\n",
    "learning_rate = 0.01"
   ]
  },
  {
   "cell_type": "code",
   "execution_count": 7,
   "metadata": {},
   "outputs": [],
   "source": [
    "img_transform = transforms.Compose([transforms.Resize((64,64)), transforms.ToTensor()])\n",
    "\n",
    "train_data = ImageFolder(TRAIN_DIRECTORY, transform=img_transform)\n",
    "val_data = ImageFolder(VAL_DIRECTORY, transform=img_transform)\n",
    "test_data = ImageFolder(TEST_DIRECTORY, transform=img_transform)"
   ]
  },
  {
   "cell_type": "code",
   "execution_count": 8,
   "metadata": {},
   "outputs": [
    {
     "name": "stdout",
     "output_type": "stream",
     "text": [
      "18968\n",
      "2353\n",
      "2416\n"
     ]
    }
   ],
   "source": [
    "print(len(train_data))\n",
    "print(len(val_data))\n",
    "print(len(test_data))"
   ]
  },
  {
   "cell_type": "code",
   "execution_count": 9,
   "metadata": {},
   "outputs": [],
   "source": [
    "train_dl = DataLoader(train_data, batch_size, shuffle=True, num_workers=4, pin_memory=True)\n",
    "test_dl = DataLoader(test_data, batch_size*2, num_workers=4, pin_memory=True)\n",
    "val_dl = DataLoader(val_data, batch_size*2,shuffle=True, num_workers=4, pin_memory=True)"
   ]
  },
  {
   "cell_type": "code",
   "execution_count": 10,
   "metadata": {},
   "outputs": [
    {
     "name": "stdout",
     "output_type": "stream",
     "text": [
      "torch.Size([3, 64, 64]) 0\n"
     ]
    }
   ],
   "source": [
    "img, label = train_data[5]\n",
    "print(img.shape, label)"
   ]
  },
  {
   "cell_type": "code",
   "execution_count": 11,
   "metadata": {},
   "outputs": [
    {
     "name": "stdout",
     "output_type": "stream",
     "text": [
      "torch.Size([3, 64, 64]) 0\n"
     ]
    }
   ],
   "source": [
    "img, label = test_data[5]\n",
    "print(img.shape, label)"
   ]
  },
  {
   "cell_type": "code",
   "execution_count": 12,
   "metadata": {},
   "outputs": [],
   "source": [
    "#load pretrained model\n",
    "import torchvision.models as models\n",
    "\n",
    "# model = models.resnet18(pretrained=True)\n",
    "# model = models.alexnet(pretrained=True)\n",
    "# model = models.squeezenet1_0(pretrained=True)\n",
    "model = models.vgg16(pretrained=False)\n",
    "# model = models.densenet161(pretrained=True)\n",
    "# model = models.inception_v3(pretrained=True)\n",
    "# model = models.googlenet(pretrained=True)\n",
    "# model = models.shufflenet_v2_x1_0(pretrained=False)\n",
    "# model = models.mobilenet_v2(pretrained=False)\n",
    "# model = models.resnext50_32x4d(pretrained=True)\n",
    "# model = models.wide_resnet50_2(pretrained=True)\n",
    "# model = models.mnasnet1_0(pretrained=True)\n",
    "\n",
    "#in_features\n",
    "resnet18 = 1000\n",
    "# alexnet = 256*6*6\n",
    "# squeezenet1_0 = 1000\n",
    "vgg16 = 512*7*7\n",
    "# densenet161\n",
    "# inception_v3\n",
    "googlenet = 1000\n",
    "shufflenet_v2_x1_0 = 1000\n",
    "mobilenet_v2 = 1280\n",
    "# resnext50_32x4d = 1000\n",
    "# wide_resnet50_2 = 1000\n",
    "# mnasnet1_0 = 1000"
   ]
  },
  {
   "cell_type": "code",
   "execution_count": 13,
   "metadata": {
    "scrolled": true
   },
   "outputs": [
    {
     "data": {
      "text/plain": [
       "VGG(\n",
       "  (features): Sequential(\n",
       "    (0): Conv2d(3, 64, kernel_size=(3, 3), stride=(1, 1), padding=(1, 1))\n",
       "    (1): ReLU(inplace=True)\n",
       "    (2): Conv2d(64, 64, kernel_size=(3, 3), stride=(1, 1), padding=(1, 1))\n",
       "    (3): ReLU(inplace=True)\n",
       "    (4): MaxPool2d(kernel_size=2, stride=2, padding=0, dilation=1, ceil_mode=False)\n",
       "    (5): Conv2d(64, 128, kernel_size=(3, 3), stride=(1, 1), padding=(1, 1))\n",
       "    (6): ReLU(inplace=True)\n",
       "    (7): Conv2d(128, 128, kernel_size=(3, 3), stride=(1, 1), padding=(1, 1))\n",
       "    (8): ReLU(inplace=True)\n",
       "    (9): MaxPool2d(kernel_size=2, stride=2, padding=0, dilation=1, ceil_mode=False)\n",
       "    (10): Conv2d(128, 256, kernel_size=(3, 3), stride=(1, 1), padding=(1, 1))\n",
       "    (11): ReLU(inplace=True)\n",
       "    (12): Conv2d(256, 256, kernel_size=(3, 3), stride=(1, 1), padding=(1, 1))\n",
       "    (13): ReLU(inplace=True)\n",
       "    (14): Conv2d(256, 256, kernel_size=(3, 3), stride=(1, 1), padding=(1, 1))\n",
       "    (15): ReLU(inplace=True)\n",
       "    (16): MaxPool2d(kernel_size=2, stride=2, padding=0, dilation=1, ceil_mode=False)\n",
       "    (17): Conv2d(256, 512, kernel_size=(3, 3), stride=(1, 1), padding=(1, 1))\n",
       "    (18): ReLU(inplace=True)\n",
       "    (19): Conv2d(512, 512, kernel_size=(3, 3), stride=(1, 1), padding=(1, 1))\n",
       "    (20): ReLU(inplace=True)\n",
       "    (21): Conv2d(512, 512, kernel_size=(3, 3), stride=(1, 1), padding=(1, 1))\n",
       "    (22): ReLU(inplace=True)\n",
       "    (23): MaxPool2d(kernel_size=2, stride=2, padding=0, dilation=1, ceil_mode=False)\n",
       "    (24): Conv2d(512, 512, kernel_size=(3, 3), stride=(1, 1), padding=(1, 1))\n",
       "    (25): ReLU(inplace=True)\n",
       "    (26): Conv2d(512, 512, kernel_size=(3, 3), stride=(1, 1), padding=(1, 1))\n",
       "    (27): ReLU(inplace=True)\n",
       "    (28): Conv2d(512, 512, kernel_size=(3, 3), stride=(1, 1), padding=(1, 1))\n",
       "    (29): ReLU(inplace=True)\n",
       "    (30): MaxPool2d(kernel_size=2, stride=2, padding=0, dilation=1, ceil_mode=False)\n",
       "  )\n",
       "  (avgpool): AdaptiveAvgPool2d(output_size=(7, 7))\n",
       "  (classifier): Sequential(\n",
       "    (0): Linear(in_features=25088, out_features=256, bias=True)\n",
       "    (1): ReLU(inplace=True)\n",
       "    (2): BatchNorm1d(256, eps=1e-05, momentum=0.1, affine=True, track_running_stats=True)\n",
       "    (3): Linear(in_features=256, out_features=128, bias=True)\n",
       "  )\n",
       ")"
      ]
     },
     "execution_count": 13,
     "metadata": {},
     "output_type": "execute_result"
    }
   ],
   "source": [
    "for param in model.parameters():\n",
    "    param.requires_grad = True\n",
    "\n",
    "model.classifier = nn.Sequential(nn.Linear(in_features=vgg16, out_features=256, bias=True),\n",
    "                                 nn.ReLU(inplace=True),\n",
    "                                 nn.BatchNorm1d(256, eps=1e-05, momentum=0.1, affine=True),\n",
    "                                 nn.Linear(in_features=256, out_features=128, bias=True),\n",
    "                                 )\n",
    "\n",
    "model.to(device)"
   ]
  },
  {
   "cell_type": "code",
   "execution_count": 14,
   "metadata": {},
   "outputs": [],
   "source": [
    "def l2_norm(input, axis = 1):\n",
    "    norm = torch.norm(input, 2, axis, True)\n",
    "    output = torch.div(input, norm)\n",
    "\n",
    "    return output"
   ]
  },
  {
   "cell_type": "code",
   "execution_count": 15,
   "metadata": {},
   "outputs": [],
   "source": [
    "class Arcface(nn.Module):\n",
    "    def __init__(self, embedding_size=128, classnum=35,  s=1, m=0.3):\n",
    "        super(Arcface, self).__init__()\n",
    "        self.classnum = classnum\n",
    "        self.kernel = Parameter(torch.FloatTensor(embedding_size,classnum), requires_grad=True)\n",
    "        # initial kernel\n",
    "        self.kernel.data.uniform_(-1, 1).renorm_(2,1,1e-5).mul_(1e5)\n",
    "        self.m = m # the margin value, default is 0.5\n",
    "        self.s = s # scalar value default is 64, see normface https://a...content-available-to-author-only...v.org/abs/1704.06369\n",
    "        self.cos_m = math.cos(m)\n",
    "        self.sin_m = math.sin(m)\n",
    "    def forward(self, embbedings, label):\n",
    "        # weights norm\n",
    "        nB = len(embbedings)\n",
    "        kernel_norm = l2_norm(self.kernel,axis=0)\n",
    "        # cos(theta) using dot product\n",
    "        cos_theta = torch.mm(embbedings,kernel_norm)\n",
    "        cos_theta = cos_theta.clamp(-1,1) # for numerical stability\n",
    "        #Sqrt(1 - cos^2(theta))\n",
    "        sin_theta = torch.sqrt(torch.clamp((1.0 - torch.pow(cos_theta, 2)),1e-9,1))\n",
    "        #cos(theta+m) = cos(theta)*cos(m) - sin(theta)*sin(m)\n",
    "        cos_theta_m = (cos_theta * self.cos_m - sin_theta * self.sin_m)\n",
    "        output = cos_theta * 1.0 # a little bit hacky way to prevent in_place operation on cos_theta\n",
    "        idx_ = torch.arange(0, nB, dtype=torch.long)\n",
    "        output[idx_, label] = cos_theta_m[idx_, label] \n",
    "        output *= self.s #scale up in order to make softmax work, first introduced in normface\n",
    "        return output"
   ]
  },
  {
   "cell_type": "code",
   "execution_count": 16,
   "metadata": {},
   "outputs": [],
   "source": [
    "metric_fc = Arcface().to(device)\n",
    "criterion = torch.nn.CrossEntropyLoss()\n",
    "\n",
    "# optimzer nn\n",
    "optimizer_nn = torch.optim.SGD(model.parameters(), lr=0.01, momentum=0.9, weight_decay=0.005)\n",
    "\n",
    "# optimzer arcface\n",
    "optimzer_arcface = torch.optim.SGD(metric_fc.parameters(), lr=0.01)"
   ]
  },
  {
   "cell_type": "code",
   "execution_count": 17,
   "metadata": {},
   "outputs": [
    {
     "name": "stdout",
     "output_type": "stream",
     "text": [
      "Epoch [1/35], Step [100/190], Loss: 3.0543\n",
      "Epoch [2/35], Step [100/190], Loss: 2.8097\n",
      "Epoch [3/35], Step [100/190], Loss: 2.7473\n",
      "Epoch [4/35], Step [100/190], Loss: 2.6598\n",
      "Epoch [5/35], Step [100/190], Loss: 2.6261\n",
      "Epoch [6/35], Step [100/190], Loss: 2.5946\n",
      "Epoch [7/35], Step [100/190], Loss: 2.5907\n",
      "Epoch [8/35], Step [100/190], Loss: 2.5644\n",
      "Epoch [9/35], Step [100/190], Loss: 2.5096\n",
      "Epoch [10/35], Step [100/190], Loss: 2.4883\n",
      "Epoch [11/35], Step [100/190], Loss: 2.4671\n",
      "Epoch [12/35], Step [100/190], Loss: 2.4804\n",
      "Epoch [13/35], Step [100/190], Loss: 2.4348\n",
      "Epoch [14/35], Step [100/190], Loss: 2.4409\n",
      "Epoch [15/35], Step [100/190], Loss: 2.4501\n",
      "Epoch [16/35], Step [100/190], Loss: 2.4000\n",
      "Epoch [17/35], Step [100/190], Loss: 2.4354\n",
      "Epoch [18/35], Step [100/190], Loss: 2.3916\n",
      "Epoch [19/35], Step [100/190], Loss: 2.3673\n",
      "Epoch [20/35], Step [100/190], Loss: 2.4028\n",
      "Epoch [21/35], Step [100/190], Loss: 2.3728\n",
      "Epoch [22/35], Step [100/190], Loss: 2.3706\n",
      "Epoch [23/35], Step [100/190], Loss: 2.3522\n",
      "Epoch [24/35], Step [100/190], Loss: 2.3529\n",
      "Epoch [25/35], Step [100/190], Loss: 2.3336\n",
      "Epoch [26/35], Step [100/190], Loss: 2.3810\n",
      "Epoch [27/35], Step [100/190], Loss: 2.3327\n",
      "Epoch [28/35], Step [100/190], Loss: 2.3287\n",
      "Epoch [29/35], Step [100/190], Loss: 2.3011\n",
      "Epoch [30/35], Step [100/190], Loss: 2.2978\n",
      "Epoch [31/35], Step [100/190], Loss: 2.3056\n",
      "Epoch [32/35], Step [100/190], Loss: 2.3024\n",
      "Epoch [33/35], Step [100/190], Loss: 2.2947\n",
      "Epoch [34/35], Step [100/190], Loss: 2.3283\n",
      "Epoch [35/35], Step [100/190], Loss: 2.2732\n",
      "Finished Training\n"
     ]
    }
   ],
   "source": [
    "n_total_steps = len(train_dl)\n",
    "for epoch in range(num_epochs):\n",
    "    for i, (images, labels) in enumerate(train_dl):\n",
    "        # origin shape: [4, 3, 32, 32] = 4, 3, 1024\n",
    "        # input_layer: 3 input channels, 6 output channels, 5 kernel size\n",
    "        images = images.to(device)\n",
    "        labels = labels.to(device)\n",
    "        \n",
    "        # set opt\n",
    "        optimizer_nn.zero_grad()\n",
    "        optimzer_arcface.zero_grad()\n",
    "\n",
    "        # Forward pass\n",
    "        outputs = model(images.float())\n",
    "        outputs = metric_fc(outputs, labels)\n",
    "        loss = criterion(outputs, labels)\n",
    "\n",
    "        # Backward and optimize\n",
    "        loss.backward()\n",
    "        torch.nn.utils.clip_grad_norm_(model.parameters(), 0.5)\n",
    "        optimizer_nn.step()\n",
    "        optimzer_arcface.step()\n",
    "        \n",
    "        #optimizer.zero_grad()\n",
    "        #loss.backward()\n",
    "        #optimizer.step()\n",
    "\n",
    "        if (i+1) % 100 == 0:\n",
    "            print (f'Epoch [{epoch+1}/{num_epochs}], Step [{i+1}/{n_total_steps}], Loss: {loss.item():.4f}')\n",
    "\n",
    "print('Finished Training')"
   ]
  },
  {
   "cell_type": "code",
   "execution_count": 18,
   "metadata": {},
   "outputs": [],
   "source": [
    "def test(model, metric_fc, criterion, device, test_loader):\n",
    "    model.eval()\n",
    "    test_loss = 0\n",
    "    correct = 0\n",
    "    with torch.no_grad():\n",
    "        for data, labels in test_loader:\n",
    "            data, labels = data.to(device), labels.to(device)\n",
    "            features3d = model(data.float())\n",
    "            \n",
    "            output = metric_fc(features3d, labels)\n",
    "            test_loss += criterion(output, labels)\n",
    "            # test_loss += centerLoss(output, target, device, features3d)\n",
    "            pred = output.max(1, keepdim=True)[1] # get the index of the max log-probability\n",
    "            correct += pred.eq(labels.view_as(pred)).sum().item()\n",
    "    test_loss /= len(test_loader.dataset)\n",
    "\n",
    "    print('\\nResult: Average loss: {}, Accuracy: {}/{} ({}%)\\n'.format(\n",
    "        str(test_loss), str(correct), str(len(test_loader.dataset)),\n",
    "        str(100. * correct / len(test_loader.dataset))))"
   ]
  },
  {
   "cell_type": "code",
   "execution_count": 19,
   "metadata": {},
   "outputs": [
    {
     "name": "stdout",
     "output_type": "stream",
     "text": [
      "\n",
      "Result: Average loss: tensor(0.0227, device='cuda:0'), Accuracy: 10793/18968 (56.90109658371995%)\n",
      "\n"
     ]
    }
   ],
   "source": [
    "test(model, metric_fc, criterion, device, train_dl)"
   ]
  },
  {
   "cell_type": "code",
   "execution_count": 20,
   "metadata": {},
   "outputs": [
    {
     "name": "stdout",
     "output_type": "stream",
     "text": [
      "\n",
      "Result: Average loss: tensor(0.0116, device='cuda:0'), Accuracy: 1337/2353 (56.82107947301318%)\n",
      "\n"
     ]
    }
   ],
   "source": [
    "test(model, metric_fc, criterion, device, val_dl)"
   ]
  },
  {
   "cell_type": "code",
   "execution_count": 21,
   "metadata": {},
   "outputs": [
    {
     "name": "stdout",
     "output_type": "stream",
     "text": [
      "\n",
      "Result: Average loss: tensor(0.0175, device='cuda:0'), Accuracy: 229/2416 (9.478476821192054%)\n",
      "\n"
     ]
    }
   ],
   "source": [
    "test(model, metric_fc, criterion, device, test_dl)"
   ]
  },
  {
   "cell_type": "code",
   "execution_count": null,
   "metadata": {},
   "outputs": [],
   "source": []
  },
  {
   "cell_type": "code",
   "execution_count": null,
   "metadata": {},
   "outputs": [],
   "source": []
  }
 ],
 "metadata": {
  "kernelspec": {
   "display_name": "Python 3",
   "language": "python",
   "name": "python3"
  },
  "language_info": {
   "codemirror_mode": {
    "name": "ipython",
    "version": 3
   },
   "file_extension": ".py",
   "mimetype": "text/x-python",
   "name": "python",
   "nbconvert_exporter": "python",
   "pygments_lexer": "ipython3",
   "version": "3.8.5"
  }
 },
 "nbformat": 4,
 "nbformat_minor": 4
}
