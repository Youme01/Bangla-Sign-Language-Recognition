{
 "cells": [
  {
   "cell_type": "code",
   "execution_count": 1,
   "metadata": {},
   "outputs": [
    {
     "name": "stdout",
     "output_type": "stream",
     "text": [
      "Requirement already satisfied: split-folders in d:\\anaconda3\\lib\\site-packages (0.4.2)\n",
      "Requirement already satisfied: split-folders in d:\\anaconda3\\lib\\site-packages (0.4.2)\n"
     ]
    },
    {
     "name": "stderr",
     "output_type": "stream",
     "text": [
      "ERROR: Could not find a version that satisfies the requirement tqdmduler (from versions: none)\n",
      "ERROR: No matching distribution found for tqdmduler\n"
     ]
    }
   ],
   "source": [
    "!pip install split-folders\n",
    "!pip install split-folders tqdmduler"
   ]
  },
  {
   "cell_type": "code",
   "execution_count": 4,
   "metadata": {},
   "outputs": [
    {
     "name": "stderr",
     "output_type": "stream",
     "text": [
      "Copying files: 978 files [00:04, 220.98 files/s]\n"
     ]
    }
   ],
   "source": [
    "import splitfolders  # or import split_folders\n",
    "\n",
    "# Split with a ratio.\n",
    "# To only split into training and validation set, set a tuple to `ratio`, i.e, `(.8, .2)`.\n",
    "splitfolders.ratio(\"E:\\Bangla Sign Alphabet\\Bangla Sign Alphabet Data\\Isharalipi_original\\Isharalipi_original_main\", \n",
    "                   output=\"E:\\Bangla Sign Alphabet\\Bangla Sign Alphabet Data\\Isharalipi_original\\Isharalipi_original_split\", seed=13, ratio=(.8, .1, .1), group_prefix=None) # default values\n",
    "\n",
    "# # Split val/test with a fixed number of items e.g. 100 for each set.\n",
    "# # To only split into training and validation set, use a single number to `fixed`, i.e., `10`.\n",
    "# splitfolders.fixed(\"input_folder\", output=\"output\", seed=1337, fixed=(100, 100), oversample=False, group_prefix=None) # default values"
   ]
  },
  {
   "cell_type": "code",
   "execution_count": null,
   "metadata": {},
   "outputs": [],
   "source": []
  }
 ],
 "metadata": {
  "kernelspec": {
   "display_name": "Python 3",
   "language": "python",
   "name": "python3"
  },
  "language_info": {
   "codemirror_mode": {
    "name": "ipython",
    "version": 3
   },
   "file_extension": ".py",
   "mimetype": "text/x-python",
   "name": "python",
   "nbconvert_exporter": "python",
   "pygments_lexer": "ipython3",
   "version": "3.7.7"
  }
 },
 "nbformat": 4,
 "nbformat_minor": 4
}
