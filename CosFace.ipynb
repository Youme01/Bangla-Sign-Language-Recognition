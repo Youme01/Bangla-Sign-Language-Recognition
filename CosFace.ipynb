{
 "cells": [
  {
   "cell_type": "markdown",
   "metadata": {},
   "source": [
    "## Import Libraries"
   ]
  },
  {
   "cell_type": "code",
   "execution_count": 4,
   "metadata": {},
   "outputs": [
    {
     "ename": "ModuleNotFoundError",
     "evalue": "No module named 'PIL'",
     "output_type": "error",
     "traceback": [
      "\u001b[1;31m---------------------------------------------------------------------------\u001b[0m",
      "\u001b[1;31mModuleNotFoundError\u001b[0m                       Traceback (most recent call last)",
      "\u001b[1;32m<ipython-input-4-43cfcdc2a7f6>\u001b[0m in \u001b[0;36m<module>\u001b[1;34m\u001b[0m\n\u001b[0;32m     10\u001b[0m \u001b[1;32mfrom\u001b[0m \u001b[0mtorch\u001b[0m\u001b[1;33m.\u001b[0m\u001b[0mutils\u001b[0m\u001b[1;33m.\u001b[0m\u001b[0mdata\u001b[0m \u001b[1;32mimport\u001b[0m \u001b[0mDataLoader\u001b[0m\u001b[1;33m\u001b[0m\u001b[1;33m\u001b[0m\u001b[0m\n\u001b[0;32m     11\u001b[0m \u001b[1;31m#from torchvision.datasets import ImageFolder\u001b[0m\u001b[1;33m\u001b[0m\u001b[1;33m\u001b[0m\u001b[1;33m\u001b[0m\u001b[0m\n\u001b[1;32m---> 12\u001b[1;33m \u001b[1;32mfrom\u001b[0m \u001b[0mtorchvision\u001b[0m\u001b[1;33m.\u001b[0m\u001b[0mtransforms\u001b[0m \u001b[1;32mimport\u001b[0m \u001b[0mToTensor\u001b[0m\u001b[1;33m,\u001b[0m \u001b[0mNormalize\u001b[0m\u001b[1;33m\u001b[0m\u001b[1;33m\u001b[0m\u001b[0m\n\u001b[0m\u001b[0;32m     13\u001b[0m \u001b[1;32mimport\u001b[0m \u001b[0mtorchvision\u001b[0m\u001b[1;33m.\u001b[0m\u001b[0mdatasets\u001b[0m \u001b[1;32mas\u001b[0m \u001b[0mdatasets\u001b[0m\u001b[1;33m\u001b[0m\u001b[1;33m\u001b[0m\u001b[0m\n\u001b[0;32m     14\u001b[0m \u001b[1;32mimport\u001b[0m \u001b[0mtorchvision\u001b[0m\u001b[1;33m.\u001b[0m\u001b[0mtransforms\u001b[0m \u001b[1;32mas\u001b[0m \u001b[0mtransforms\u001b[0m\u001b[1;33m\u001b[0m\u001b[1;33m\u001b[0m\u001b[0m\n",
      "\u001b[1;32m~\\anaconda3\\lib\\site-packages\\torchvision\\__init__.py\u001b[0m in \u001b[0;36m<module>\u001b[1;34m\u001b[0m\n\u001b[0;32m      5\u001b[0m \u001b[1;33m\u001b[0m\u001b[0m\n\u001b[0;32m      6\u001b[0m \u001b[1;32mfrom\u001b[0m \u001b[0mtorchvision\u001b[0m \u001b[1;32mimport\u001b[0m \u001b[0mmodels\u001b[0m\u001b[1;33m\u001b[0m\u001b[1;33m\u001b[0m\u001b[0m\n\u001b[1;32m----> 7\u001b[1;33m \u001b[1;32mfrom\u001b[0m \u001b[0mtorchvision\u001b[0m \u001b[1;32mimport\u001b[0m \u001b[0mdatasets\u001b[0m\u001b[1;33m\u001b[0m\u001b[1;33m\u001b[0m\u001b[0m\n\u001b[0m\u001b[0;32m      8\u001b[0m \u001b[1;32mfrom\u001b[0m \u001b[0mtorchvision\u001b[0m \u001b[1;32mimport\u001b[0m \u001b[0mops\u001b[0m\u001b[1;33m\u001b[0m\u001b[1;33m\u001b[0m\u001b[0m\n\u001b[0;32m      9\u001b[0m \u001b[1;32mfrom\u001b[0m \u001b[0mtorchvision\u001b[0m \u001b[1;32mimport\u001b[0m \u001b[0mtransforms\u001b[0m\u001b[1;33m\u001b[0m\u001b[1;33m\u001b[0m\u001b[0m\n",
      "\u001b[1;32m~\\anaconda3\\lib\\site-packages\\torchvision\\datasets\\__init__.py\u001b[0m in \u001b[0;36m<module>\u001b[1;34m\u001b[0m\n\u001b[1;32m----> 1\u001b[1;33m \u001b[1;32mfrom\u001b[0m \u001b[1;33m.\u001b[0m\u001b[0mlsun\u001b[0m \u001b[1;32mimport\u001b[0m \u001b[0mLSUN\u001b[0m\u001b[1;33m,\u001b[0m \u001b[0mLSUNClass\u001b[0m\u001b[1;33m\u001b[0m\u001b[1;33m\u001b[0m\u001b[0m\n\u001b[0m\u001b[0;32m      2\u001b[0m \u001b[1;32mfrom\u001b[0m \u001b[1;33m.\u001b[0m\u001b[0mfolder\u001b[0m \u001b[1;32mimport\u001b[0m \u001b[0mImageFolder\u001b[0m\u001b[1;33m,\u001b[0m \u001b[0mDatasetFolder\u001b[0m\u001b[1;33m\u001b[0m\u001b[1;33m\u001b[0m\u001b[0m\n\u001b[0;32m      3\u001b[0m \u001b[1;32mfrom\u001b[0m \u001b[1;33m.\u001b[0m\u001b[0mcoco\u001b[0m \u001b[1;32mimport\u001b[0m \u001b[0mCocoCaptions\u001b[0m\u001b[1;33m,\u001b[0m \u001b[0mCocoDetection\u001b[0m\u001b[1;33m\u001b[0m\u001b[1;33m\u001b[0m\u001b[0m\n\u001b[0;32m      4\u001b[0m \u001b[1;32mfrom\u001b[0m \u001b[1;33m.\u001b[0m\u001b[0mcifar\u001b[0m \u001b[1;32mimport\u001b[0m \u001b[0mCIFAR10\u001b[0m\u001b[1;33m,\u001b[0m \u001b[0mCIFAR100\u001b[0m\u001b[1;33m\u001b[0m\u001b[1;33m\u001b[0m\u001b[0m\n\u001b[0;32m      5\u001b[0m \u001b[1;32mfrom\u001b[0m \u001b[1;33m.\u001b[0m\u001b[0mstl10\u001b[0m \u001b[1;32mimport\u001b[0m \u001b[0mSTL10\u001b[0m\u001b[1;33m\u001b[0m\u001b[1;33m\u001b[0m\u001b[0m\n",
      "\u001b[1;32m~\\anaconda3\\lib\\site-packages\\torchvision\\datasets\\lsun.py\u001b[0m in \u001b[0;36m<module>\u001b[1;34m\u001b[0m\n\u001b[0;32m      1\u001b[0m \u001b[1;32mfrom\u001b[0m \u001b[1;33m.\u001b[0m\u001b[0mvision\u001b[0m \u001b[1;32mimport\u001b[0m \u001b[0mVisionDataset\u001b[0m\u001b[1;33m\u001b[0m\u001b[1;33m\u001b[0m\u001b[0m\n\u001b[1;32m----> 2\u001b[1;33m \u001b[1;32mfrom\u001b[0m \u001b[0mPIL\u001b[0m \u001b[1;32mimport\u001b[0m \u001b[0mImage\u001b[0m\u001b[1;33m\u001b[0m\u001b[1;33m\u001b[0m\u001b[0m\n\u001b[0m\u001b[0;32m      3\u001b[0m \u001b[1;32mimport\u001b[0m \u001b[0mos\u001b[0m\u001b[1;33m\u001b[0m\u001b[1;33m\u001b[0m\u001b[0m\n\u001b[0;32m      4\u001b[0m \u001b[1;32mimport\u001b[0m \u001b[0mos\u001b[0m\u001b[1;33m.\u001b[0m\u001b[0mpath\u001b[0m\u001b[1;33m\u001b[0m\u001b[1;33m\u001b[0m\u001b[0m\n\u001b[0;32m      5\u001b[0m \u001b[1;32mimport\u001b[0m \u001b[0mio\u001b[0m\u001b[1;33m\u001b[0m\u001b[1;33m\u001b[0m\u001b[0m\n",
      "\u001b[1;31mModuleNotFoundError\u001b[0m: No module named 'PIL'"
     ]
    }
   ],
   "source": [
    "#imports\n",
    "import os\n",
    "import torch\n",
    "#import torchvision\n",
    "import torch.nn as nn\n",
    "#import matplotlib.pyplot as plt\n",
    "from sklearn.metrics import confusion_matrix\n",
    "import torch.optim as optim\n",
    "import torch.nn.functional as F\n",
    "from torch.utils.data import DataLoader\n",
    "#from torchvision.datasets import ImageFolder\n",
    "from torchvision.transforms import ToTensor, Normalize\n",
    "import torchvision.datasets as datasets\n",
    "import torchvision.transforms as transforms\n",
    "import torch.optim.lr_scheduler as lr_scheduler\n",
    "from torch.nn import Parameter\n",
    "from torch.autograd import Variable\n",
    "import math"
   ]
  },
  {
   "cell_type": "markdown",
   "metadata": {},
   "source": [
    "### Task for Increaing Performance"
   ]
  },
  {
   "cell_type": "markdown",
   "metadata": {},
   "source": [
    "1. Built in VGG, RESNET34, RESNET18, RESNET50 (FZ) ✔\n",
    "\n",
    "2. Dense Layer ✔\n",
    "\n",
    "3. Weights and Biases Saved ❌\n",
    "\n",
    "4. Freezing Layer -- VGG (SGD, ADAM) ✔\n",
    "\n",
    "5. Dropout -- p = 0.25 ( Result: Decrease Performance) ✔\n",
    "\n",
    "6. optimizer -- SGD works better ✔\n",
    "\n",
    "7. Learning rate -- 0.01 works better ✔\n",
    "\n",
    "8. margin decrease from 0.35 to 0.1 which gives 45.28 accuracy ✔\n",
    "\n",
    "9. s=2 works better ✔\n",
    "\n",
    "10. Batch size 100 works better than 32,128 ✔\n",
    "\n",
    "11. Activation changed ELU, Relu works better than ELU ✔\n",
    "\n",
    "12. pre-trained - True works better ✔\n",
    "\n",
    "13. BatchNorm1d works better ✔\n",
    "\n",
    "14. Laplacian processing is done but doesn't improve result  ✔\n",
    "\n",
    "15. Center Loss code is implemented but doesn't converge ✔\n",
    "\n",
    "16. Data is normalized ✔\n",
    "\n",
    "17. At m = 2, SphereFace performs 48.97% accuracy with (512-256 layers) ✔ \n",
    "\n",
    "\n"
   ]
  },
  {
   "cell_type": "markdown",
   "metadata": {},
   "source": [
    "### Data Loading"
   ]
  },
  {
   "cell_type": "code",
   "execution_count": 35,
   "metadata": {},
   "outputs": [],
   "source": [
    "#directories\n",
    "\n",
    "BDSL_TRAIN = 'E:/Bangla Sign Alphabet/Bangla Sign Alphabet Data/BDSL/BDSL_split/train'\n",
    "BDSL_VAL = 'E:/Bangla Sign Alphabet/Bangla Sign Alphabet Data/BDSL/BDSL_split/test'\n",
    "BDSL_TEST = 'E:/Bangla Sign Alphabet/Bangla Sign Alphabet Data/BDSL/BDSL_split/test'\n",
    "\n",
    "ISHARA_AUGMENTED_TRAIN = 'E:/Bangla Sign Alphabet/Bangla Sign Alphabet Data/Isharalipi_augmentated/Isharalipi_augmentated_split/train'\n",
    "\n",
    "ISHARA_AUGMENTED_VAL = 'D:/Sign language Dataset/Final/Bangla Sign Alphabet/Bangla Sign Alphabet Data/Isharalipi_augmentated/Isharalipi_augmentated_split/val'\n",
    "ISHARA_AUGMENTED_TEST = 'E:/Bangla Sign Alphabet/Bangla Sign Alphabet Data/Isharalipi_augmentated/Isharalipi_augmentated_split/test'\n",
    "\n",
    "ISHARA_MAIN = 'E:/Bangla Sign Alphabet/Bangla Sign Alphabet Data/Isharalipi_original/Isharalipi_original_main'"
   ]
  },
  {
   "cell_type": "code",
   "execution_count": 36,
   "metadata": {},
   "outputs": [],
   "source": [
    "TRAIN_DIRECTORY = ISHARA_AUGMENTED_TRAIN\n",
    "VAL_DIRECTORY = BDSL_VAL\n",
    "TEST_DIRECTORY = BDSL_TEST"
   ]
  },
  {
   "cell_type": "code",
   "execution_count": 37,
   "metadata": {},
   "outputs": [],
   "source": [
    "img_transform = transforms.Compose([transforms.Resize((64,64)), \n",
    "                                    transforms.ToTensor(),\n",
    "                                    transforms.Normalize(mean = [0.485,0.456,0.406],\n",
    "                                    std = [0.229,0.224,0.225])])\n",
    "\n",
    "train_data = ImageFolder(TRAIN_DIRECTORY, transform=img_transform)\n",
    "val_data = ImageFolder(VAL_DIRECTORY, transform=img_transform)\n",
    "test_data = ImageFolder(TEST_DIRECTORY, transform=img_transform)"
   ]
  },
  {
   "cell_type": "code",
   "execution_count": 38,
   "metadata": {},
   "outputs": [],
   "source": [
    "# Device configuration\n",
    "device = torch.device('cuda')"
   ]
  },
  {
   "cell_type": "markdown",
   "metadata": {},
   "source": [
    "### Hyperparameters"
   ]
  },
  {
   "cell_type": "code",
   "execution_count": 39,
   "metadata": {},
   "outputs": [],
   "source": [
    "# Hyper-parameters \n",
    "num_epochs = 15\n",
    "batch_size = 100\n",
    "learning_rate = 0.01\n",
    "\n",
    "load_model = False"
   ]
  },
  {
   "cell_type": "code",
   "execution_count": 40,
   "metadata": {},
   "outputs": [],
   "source": [
    "train_dl = DataLoader(train_data, batch_size, shuffle=True, num_workers=4, pin_memory=True)\n",
    "test_dl = DataLoader(test_data, batch_size*2, shuffle=True, num_workers=4, pin_memory=True)\n",
    "val_dl = DataLoader(val_data, batch_size*2,shuffle=True, num_workers=4, pin_memory=True)"
   ]
  },
  {
   "cell_type": "code",
   "execution_count": 41,
   "metadata": {},
   "outputs": [
    {
     "name": "stdout",
     "output_type": "stream",
     "text": [
      "torch.Size([3, 64, 64]) 0\n"
     ]
    }
   ],
   "source": [
    "label = torch.tensor([])\n",
    "img, label = test_data[5]\n",
    "print(img.shape, label)"
   ]
  },
  {
   "cell_type": "code",
   "execution_count": 42,
   "metadata": {},
   "outputs": [
    {
     "name": "stdout",
     "output_type": "stream",
     "text": [
      "18968\n",
      "2416\n",
      "2416\n"
     ]
    }
   ],
   "source": [
    "print(len(train_data))\n",
    "print(len(val_data))\n",
    "print(len(test_data))"
   ]
  },
  {
   "cell_type": "code",
   "execution_count": 43,
   "metadata": {},
   "outputs": [
    {
     "name": "stdout",
     "output_type": "stream",
     "text": [
      "Requirement already satisfied: torch-summary in c:\\users\\user\\anaconda3\\lib\\site-packages (1.4.5)\n",
      "Note: you may need to restart the kernel to use updated packages.\n"
     ]
    },
    {
     "name": "stderr",
     "output_type": "stream",
     "text": [
      "WARNING: You are using pip version 20.3.3; however, version 21.0.1 is available.\n",
      "You should consider upgrading via the 'C:\\Users\\User\\anaconda3\\python.exe -m pip install --upgrade pip' command.\n"
     ]
    }
   ],
   "source": [
    "pip install torch-summary"
   ]
  },
  {
   "cell_type": "markdown",
   "metadata": {},
   "source": [
    "## MODEL "
   ]
  },
  {
   "cell_type": "code",
   "execution_count": 44,
   "metadata": {},
   "outputs": [
    {
     "name": "stdout",
     "output_type": "stream",
     "text": [
      "==========================================================================================\n",
      "Layer (type:depth-idx)                   Output Shape              Param #\n",
      "==========================================================================================\n",
      "├─Sequential: 1-1                        [-1, 512, 2, 2]           --\n",
      "|    └─Conv2d: 2-1                       [-1, 64, 64, 64]          1,792\n",
      "|    └─ReLU: 2-2                         [-1, 64, 64, 64]          --\n",
      "|    └─Conv2d: 2-3                       [-1, 64, 64, 64]          36,928\n",
      "|    └─ReLU: 2-4                         [-1, 64, 64, 64]          --\n",
      "|    └─MaxPool2d: 2-5                    [-1, 64, 32, 32]          --\n",
      "|    └─Conv2d: 2-6                       [-1, 128, 32, 32]         73,856\n",
      "|    └─ReLU: 2-7                         [-1, 128, 32, 32]         --\n",
      "|    └─Conv2d: 2-8                       [-1, 128, 32, 32]         147,584\n",
      "|    └─ReLU: 2-9                         [-1, 128, 32, 32]         --\n",
      "|    └─MaxPool2d: 2-10                   [-1, 128, 16, 16]         --\n",
      "|    └─Conv2d: 2-11                      [-1, 256, 16, 16]         295,168\n",
      "|    └─ReLU: 2-12                        [-1, 256, 16, 16]         --\n",
      "|    └─Conv2d: 2-13                      [-1, 256, 16, 16]         590,080\n",
      "|    └─ReLU: 2-14                        [-1, 256, 16, 16]         --\n",
      "|    └─Conv2d: 2-15                      [-1, 256, 16, 16]         590,080\n",
      "|    └─ReLU: 2-16                        [-1, 256, 16, 16]         --\n",
      "|    └─MaxPool2d: 2-17                   [-1, 256, 8, 8]           --\n",
      "|    └─Conv2d: 2-18                      [-1, 512, 8, 8]           1,180,160\n",
      "|    └─ReLU: 2-19                        [-1, 512, 8, 8]           --\n",
      "|    └─Conv2d: 2-20                      [-1, 512, 8, 8]           2,359,808\n",
      "|    └─ReLU: 2-21                        [-1, 512, 8, 8]           --\n",
      "|    └─Conv2d: 2-22                      [-1, 512, 8, 8]           2,359,808\n",
      "|    └─ReLU: 2-23                        [-1, 512, 8, 8]           --\n",
      "|    └─MaxPool2d: 2-24                   [-1, 512, 4, 4]           --\n",
      "|    └─Conv2d: 2-25                      [-1, 512, 4, 4]           2,359,808\n",
      "|    └─ReLU: 2-26                        [-1, 512, 4, 4]           --\n",
      "|    └─Conv2d: 2-27                      [-1, 512, 4, 4]           2,359,808\n",
      "|    └─ReLU: 2-28                        [-1, 512, 4, 4]           --\n",
      "|    └─Conv2d: 2-29                      [-1, 512, 4, 4]           2,359,808\n",
      "|    └─ReLU: 2-30                        [-1, 512, 4, 4]           --\n",
      "|    └─MaxPool2d: 2-31                   [-1, 512, 2, 2]           --\n",
      "├─AdaptiveAvgPool2d: 1-2                 [-1, 512, 7, 7]           --\n",
      "├─Sequential: 1-3                        [-1, 1000]                --\n",
      "|    └─Linear: 2-32                      [-1, 4096]                102,764,544\n",
      "|    └─ReLU: 2-33                        [-1, 4096]                --\n",
      "|    └─Dropout: 2-34                     [-1, 4096]                --\n",
      "|    └─Linear: 2-35                      [-1, 4096]                16,781,312\n",
      "|    └─ReLU: 2-36                        [-1, 4096]                --\n",
      "|    └─Dropout: 2-37                     [-1, 4096]                --\n",
      "|    └─Linear: 2-38                      [-1, 1000]                4,097,000\n",
      "==========================================================================================\n",
      "Total params: 138,357,544\n",
      "Trainable params: 138,357,544\n",
      "Non-trainable params: 0\n",
      "Total mult-adds (G): 1.51\n",
      "==========================================================================================\n",
      "Input size (MB): 0.05\n",
      "Forward/backward pass size (MB): 8.51\n",
      "Params size (MB): 527.79\n",
      "Estimated Total Size (MB): 536.35\n",
      "==========================================================================================\n"
     ]
    },
    {
     "data": {
      "text/plain": [
       "==========================================================================================\n",
       "Layer (type:depth-idx)                   Output Shape              Param #\n",
       "==========================================================================================\n",
       "├─Sequential: 1-1                        [-1, 512, 2, 2]           --\n",
       "|    └─Conv2d: 2-1                       [-1, 64, 64, 64]          1,792\n",
       "|    └─ReLU: 2-2                         [-1, 64, 64, 64]          --\n",
       "|    └─Conv2d: 2-3                       [-1, 64, 64, 64]          36,928\n",
       "|    └─ReLU: 2-4                         [-1, 64, 64, 64]          --\n",
       "|    └─MaxPool2d: 2-5                    [-1, 64, 32, 32]          --\n",
       "|    └─Conv2d: 2-6                       [-1, 128, 32, 32]         73,856\n",
       "|    └─ReLU: 2-7                         [-1, 128, 32, 32]         --\n",
       "|    └─Conv2d: 2-8                       [-1, 128, 32, 32]         147,584\n",
       "|    └─ReLU: 2-9                         [-1, 128, 32, 32]         --\n",
       "|    └─MaxPool2d: 2-10                   [-1, 128, 16, 16]         --\n",
       "|    └─Conv2d: 2-11                      [-1, 256, 16, 16]         295,168\n",
       "|    └─ReLU: 2-12                        [-1, 256, 16, 16]         --\n",
       "|    └─Conv2d: 2-13                      [-1, 256, 16, 16]         590,080\n",
       "|    └─ReLU: 2-14                        [-1, 256, 16, 16]         --\n",
       "|    └─Conv2d: 2-15                      [-1, 256, 16, 16]         590,080\n",
       "|    └─ReLU: 2-16                        [-1, 256, 16, 16]         --\n",
       "|    └─MaxPool2d: 2-17                   [-1, 256, 8, 8]           --\n",
       "|    └─Conv2d: 2-18                      [-1, 512, 8, 8]           1,180,160\n",
       "|    └─ReLU: 2-19                        [-1, 512, 8, 8]           --\n",
       "|    └─Conv2d: 2-20                      [-1, 512, 8, 8]           2,359,808\n",
       "|    └─ReLU: 2-21                        [-1, 512, 8, 8]           --\n",
       "|    └─Conv2d: 2-22                      [-1, 512, 8, 8]           2,359,808\n",
       "|    └─ReLU: 2-23                        [-1, 512, 8, 8]           --\n",
       "|    └─MaxPool2d: 2-24                   [-1, 512, 4, 4]           --\n",
       "|    └─Conv2d: 2-25                      [-1, 512, 4, 4]           2,359,808\n",
       "|    └─ReLU: 2-26                        [-1, 512, 4, 4]           --\n",
       "|    └─Conv2d: 2-27                      [-1, 512, 4, 4]           2,359,808\n",
       "|    └─ReLU: 2-28                        [-1, 512, 4, 4]           --\n",
       "|    └─Conv2d: 2-29                      [-1, 512, 4, 4]           2,359,808\n",
       "|    └─ReLU: 2-30                        [-1, 512, 4, 4]           --\n",
       "|    └─MaxPool2d: 2-31                   [-1, 512, 2, 2]           --\n",
       "├─AdaptiveAvgPool2d: 1-2                 [-1, 512, 7, 7]           --\n",
       "├─Sequential: 1-3                        [-1, 1000]                --\n",
       "|    └─Linear: 2-32                      [-1, 4096]                102,764,544\n",
       "|    └─ReLU: 2-33                        [-1, 4096]                --\n",
       "|    └─Dropout: 2-34                     [-1, 4096]                --\n",
       "|    └─Linear: 2-35                      [-1, 4096]                16,781,312\n",
       "|    └─ReLU: 2-36                        [-1, 4096]                --\n",
       "|    └─Dropout: 2-37                     [-1, 4096]                --\n",
       "|    └─Linear: 2-38                      [-1, 1000]                4,097,000\n",
       "==========================================================================================\n",
       "Total params: 138,357,544\n",
       "Trainable params: 138,357,544\n",
       "Non-trainable params: 0\n",
       "Total mult-adds (G): 1.51\n",
       "==========================================================================================\n",
       "Input size (MB): 0.05\n",
       "Forward/backward pass size (MB): 8.51\n",
       "Params size (MB): 527.79\n",
       "Estimated Total Size (MB): 536.35\n",
       "=========================================================================================="
      ]
     },
     "execution_count": 44,
     "metadata": {},
     "output_type": "execute_result"
    }
   ],
   "source": [
    "#load pretrained model\n",
    "import torchvision.models as models\n",
    "\n",
    "#model = models.resnet18(pretrained=True)\n",
    "#model = models.alexnet(pretrained=False)\n",
    "# model = models.squeezenet1_0(pretrained=True)\n",
    "model = models.vgg16(pretrained=True)\n",
    "# model = models.densenet161(pretrained=True)\n",
    "# model = models.inception_v3(pretrained=True)\n",
    "# model = models.googlenet(pretrained=True)\n",
    "# model = models.shufflenet_v2_x1_0(pretrained=False)\n",
    "# model = models.mobilenet_v2(pretrained=False)\n",
    "# model = models.resnext50_32x4d(pretrained=True)\n",
    "# model = models.wide_resnet50_2(pretrained=True)\n",
    "# model = models.mnasnet1_0(pretrained=True)\n",
    "#model = models.resnet50(pretrained=True)\n",
    "#in_features\n",
    "resnet18 = 512\n",
    "alexnet = 256*6*6\n",
    "# squeezenet1_0 = 1000\n",
    "vgg16 = 512*7*7\n",
    "# densenet161\n",
    "# inception_v3\n",
    "googlenet = 1000\n",
    "shufflenet_v2_x1_0 = 1000\n",
    "mobilenet_v2 = 1280\n",
    "# resnext50_32x4d = 1000\n",
    "# wide_resnet50_2 = 1000\n",
    "# mnasnet1_0 = 1000\n",
    "model \n",
    "\n",
    "from torchsummary import summary\n",
    "\n",
    "summary(model, (3, 64, 64))"
   ]
  },
  {
   "cell_type": "code",
   "execution_count": 45,
   "metadata": {},
   "outputs": [],
   "source": [
    "#RESNET\n",
    "\n",
    "# model.fc = torch.nn.Sequential(\n",
    "#     torch.nn.Linear(\n",
    "#         in_features=2048,\n",
    "#         out_features=512\n",
    "#     ),\n",
    "#     nn.ReLU(inplace=True),\n",
    "#     nn.BatchNorm1d(512, eps=1e-05, momentum=0.1, affine=True),\n",
    "#     torch.nn.Linear(\n",
    "#         in_features=512,\n",
    "#         out_features=256\n",
    "#     ),\n",
    "#     nn.ReLU(inplace=True),\n",
    "#     nn.BatchNorm1d(256, eps=1e-05, momentum=0.1, affine=True),\n",
    "#     nn.Linear(in_features=256, out_features=128, bias=True),\n",
    "# )\n",
    "                      "
   ]
  },
  {
   "cell_type": "code",
   "execution_count": 46,
   "metadata": {},
   "outputs": [
    {
     "data": {
      "text/plain": [
       "VGG(\n",
       "  (features): Sequential(\n",
       "    (0): Conv2d(3, 64, kernel_size=(3, 3), stride=(1, 1), padding=(1, 1))\n",
       "    (1): ReLU(inplace=True)\n",
       "    (2): Conv2d(64, 64, kernel_size=(3, 3), stride=(1, 1), padding=(1, 1))\n",
       "    (3): ReLU(inplace=True)\n",
       "    (4): MaxPool2d(kernel_size=2, stride=2, padding=0, dilation=1, ceil_mode=False)\n",
       "    (5): Conv2d(64, 128, kernel_size=(3, 3), stride=(1, 1), padding=(1, 1))\n",
       "    (6): ReLU(inplace=True)\n",
       "    (7): Conv2d(128, 128, kernel_size=(3, 3), stride=(1, 1), padding=(1, 1))\n",
       "    (8): ReLU(inplace=True)\n",
       "    (9): MaxPool2d(kernel_size=2, stride=2, padding=0, dilation=1, ceil_mode=False)\n",
       "    (10): Conv2d(128, 256, kernel_size=(3, 3), stride=(1, 1), padding=(1, 1))\n",
       "    (11): ReLU(inplace=True)\n",
       "    (12): Conv2d(256, 256, kernel_size=(3, 3), stride=(1, 1), padding=(1, 1))\n",
       "    (13): ReLU(inplace=True)\n",
       "    (14): Conv2d(256, 256, kernel_size=(3, 3), stride=(1, 1), padding=(1, 1))\n",
       "    (15): ReLU(inplace=True)\n",
       "    (16): MaxPool2d(kernel_size=2, stride=2, padding=0, dilation=1, ceil_mode=False)\n",
       "    (17): Conv2d(256, 512, kernel_size=(3, 3), stride=(1, 1), padding=(1, 1))\n",
       "    (18): ReLU(inplace=True)\n",
       "    (19): Conv2d(512, 512, kernel_size=(3, 3), stride=(1, 1), padding=(1, 1))\n",
       "    (20): ReLU(inplace=True)\n",
       "    (21): Conv2d(512, 512, kernel_size=(3, 3), stride=(1, 1), padding=(1, 1))\n",
       "    (22): ReLU(inplace=True)\n",
       "    (23): MaxPool2d(kernel_size=2, stride=2, padding=0, dilation=1, ceil_mode=False)\n",
       "    (24): Conv2d(512, 512, kernel_size=(3, 3), stride=(1, 1), padding=(1, 1))\n",
       "    (25): ReLU(inplace=True)\n",
       "    (26): Conv2d(512, 512, kernel_size=(3, 3), stride=(1, 1), padding=(1, 1))\n",
       "    (27): ReLU(inplace=True)\n",
       "    (28): Conv2d(512, 512, kernel_size=(3, 3), stride=(1, 1), padding=(1, 1))\n",
       "    (29): ReLU(inplace=True)\n",
       "    (30): MaxPool2d(kernel_size=2, stride=2, padding=0, dilation=1, ceil_mode=False)\n",
       "  )\n",
       "  (avgpool): AdaptiveAvgPool2d(output_size=(7, 7))\n",
       "  (classifier): Sequential(\n",
       "    (0): Linear(in_features=25088, out_features=4096, bias=True)\n",
       "    (1): ReLU(inplace=True)\n",
       "    (2): Dropout(p=0.5, inplace=False)\n",
       "    (3): Linear(in_features=4096, out_features=4096, bias=True)\n",
       "    (4): ReLU(inplace=True)\n",
       "    (5): Dropout(p=0.5, inplace=False)\n",
       "    (6): Linear(in_features=4096, out_features=1000, bias=True)\n",
       "  )\n",
       ")"
      ]
     },
     "execution_count": 46,
     "metadata": {},
     "output_type": "execute_result"
    }
   ],
   "source": [
    "model"
   ]
  },
  {
   "cell_type": "code",
   "execution_count": 47,
   "metadata": {},
   "outputs": [
    {
     "data": {
      "text/plain": [
       "VGG(\n",
       "  (features): Sequential(\n",
       "    (0): Conv2d(3, 64, kernel_size=(3, 3), stride=(1, 1), padding=(1, 1))\n",
       "    (1): ReLU(inplace=True)\n",
       "    (2): Conv2d(64, 64, kernel_size=(3, 3), stride=(1, 1), padding=(1, 1))\n",
       "    (3): ReLU(inplace=True)\n",
       "    (4): MaxPool2d(kernel_size=2, stride=2, padding=0, dilation=1, ceil_mode=False)\n",
       "    (5): Conv2d(64, 128, kernel_size=(3, 3), stride=(1, 1), padding=(1, 1))\n",
       "    (6): ReLU(inplace=True)\n",
       "    (7): Conv2d(128, 128, kernel_size=(3, 3), stride=(1, 1), padding=(1, 1))\n",
       "    (8): ReLU(inplace=True)\n",
       "    (9): MaxPool2d(kernel_size=2, stride=2, padding=0, dilation=1, ceil_mode=False)\n",
       "    (10): Conv2d(128, 256, kernel_size=(3, 3), stride=(1, 1), padding=(1, 1))\n",
       "    (11): ReLU(inplace=True)\n",
       "    (12): Conv2d(256, 256, kernel_size=(3, 3), stride=(1, 1), padding=(1, 1))\n",
       "    (13): ReLU(inplace=True)\n",
       "    (14): Conv2d(256, 256, kernel_size=(3, 3), stride=(1, 1), padding=(1, 1))\n",
       "    (15): ReLU(inplace=True)\n",
       "    (16): MaxPool2d(kernel_size=2, stride=2, padding=0, dilation=1, ceil_mode=False)\n",
       "    (17): Conv2d(256, 512, kernel_size=(3, 3), stride=(1, 1), padding=(1, 1))\n",
       "    (18): ReLU(inplace=True)\n",
       "    (19): Conv2d(512, 512, kernel_size=(3, 3), stride=(1, 1), padding=(1, 1))\n",
       "    (20): ReLU(inplace=True)\n",
       "    (21): Conv2d(512, 512, kernel_size=(3, 3), stride=(1, 1), padding=(1, 1))\n",
       "    (22): ReLU(inplace=True)\n",
       "    (23): MaxPool2d(kernel_size=2, stride=2, padding=0, dilation=1, ceil_mode=False)\n",
       "    (24): Conv2d(512, 512, kernel_size=(3, 3), stride=(1, 1), padding=(1, 1))\n",
       "    (25): ReLU(inplace=True)\n",
       "    (26): Conv2d(512, 512, kernel_size=(3, 3), stride=(1, 1), padding=(1, 1))\n",
       "    (27): ReLU(inplace=True)\n",
       "    (28): Conv2d(512, 512, kernel_size=(3, 3), stride=(1, 1), padding=(1, 1))\n",
       "    (29): ReLU(inplace=True)\n",
       "    (30): MaxPool2d(kernel_size=2, stride=2, padding=0, dilation=1, ceil_mode=False)\n",
       "  )\n",
       "  (avgpool): AdaptiveAvgPool2d(output_size=(7, 7))\n",
       "  (classifier): Sequential(\n",
       "    (0): Linear(in_features=25088, out_features=512, bias=True)\n",
       "    (1): ReLU(inplace=True)\n",
       "    (2): BatchNorm1d(512, eps=1e-05, momentum=0.1, affine=True, track_running_stats=True)\n",
       "    (3): Linear(in_features=512, out_features=256, bias=True)\n",
       "    (4): ReLU(inplace=True)\n",
       "    (5): BatchNorm1d(256, eps=1e-05, momentum=0.1, affine=True, track_running_stats=True)\n",
       "    (6): Linear(in_features=256, out_features=256, bias=True)\n",
       "  )\n",
       ")"
      ]
     },
     "execution_count": 47,
     "metadata": {},
     "output_type": "execute_result"
    }
   ],
   "source": [
    "# for param in model.parameters():\n",
    "#     param.requires_grad = False\n",
    "\n",
    "# model.classifier = nn.Sequential(nn.Linear(in_features=vgg16, out_features=1000, bias=True),\n",
    "#                                  nn.ReLU(inplace=True),\n",
    "                               \n",
    "#                                  nn.BatchNorm1d(1000, eps=1e-05, momentum=0.1, affine=True),\n",
    "#                                  nn.Linear(in_features=1000, out_features=256, bias=True),\n",
    "#                                  nn.ReLU(inplace=True),\n",
    "                                 \n",
    "#                                  nn.BatchNorm1d(256, eps=1e-05, momentum=0.1, affine=True),\n",
    "#                                  nn.Linear(in_features=256, out_features=128, bias=True),\n",
    "#                                  ) \n",
    "\n",
    "for param in model.parameters():\n",
    "    param.requires_grad = True\n",
    "\n",
    "model.classifier = nn.Sequential(nn.Linear(in_features=vgg16, out_features=512, bias=True),\n",
    "                                 nn.ReLU(inplace=True),\n",
    "                                 nn.BatchNorm1d(512, eps=1e-05, momentum=0.1, affine=True),\n",
    "                                 nn.Linear(in_features=512, out_features=256, bias=True),\n",
    "                                 nn.ReLU(inplace=True),\n",
    "                                 nn.BatchNorm1d(256, eps=1e-05, momentum=0.1, affine=True),\n",
    "                                 nn.Linear(in_features=256, out_features=256, bias=True),\n",
    "                            )\n",
    "model\n"
   ]
  },
  {
   "cell_type": "markdown",
   "metadata": {},
   "source": [
    "## Loss Function"
   ]
  },
  {
   "cell_type": "code",
   "execution_count": 48,
   "metadata": {},
   "outputs": [],
   "source": [
    "class AddMarginProduct(nn.Module):\n",
    "    r\"\"\"Implement of large margin cosine distance: :\n",
    "    Args:\n",
    "        in_features: size of each input sample\n",
    "        out_features: size of each output sample\n",
    "        s: norm of input feature\n",
    "        m: margin\n",
    "        cos(theta) - m\n",
    "    \"\"\"\n",
    "\n",
    "    def __init__(self, in_features, out_features, s=1, m=0.10):\n",
    "        super(AddMarginProduct, self).__init__()\n",
    "        self.in_features = in_features\n",
    "        self.out_features = out_features\n",
    "        self.s = s\n",
    "        self.m = m\n",
    "        self.weight = Parameter(torch.FloatTensor(out_features, in_features)).cuda()\n",
    "        nn.init.xavier_uniform_(self.weight)\n",
    "\n",
    "    def forward(self, input, label):\n",
    "        # --------------------------- cos(theta) & phi(theta) ---------------------------\n",
    "        cosine = F.linear(F.normalize(input), F.normalize(self.weight))\n",
    "        phi = cosine - self.m\n",
    "        # --------------------------- convert label to one-hot ---------------------------\n",
    "        one_hot = torch.zeros(cosine.size(), device='cuda')\n",
    "        # one_hot = one_hot.cuda() if cosine.is_cuda else one_hot\n",
    "        one_hot.scatter_(1, label.view(-1, 1).long(), 1)\n",
    "        # -------------torch.where(out_i = {x_i if condition_i else y_i) -------------\n",
    "        output = (one_hot * phi) + ((1.0 - one_hot) * cosine)  # you can use torch.where if your torch.__version__ is 0.4\n",
    "        output *= self.s\n",
    "        # print(output)\n",
    "\n",
    "        return output\n"
   ]
  },
  {
   "cell_type": "code",
   "execution_count": 49,
   "metadata": {},
   "outputs": [],
   "source": [
    "def save_checkpoint(state, filename='my_checkpoint.pth.tar'):\n",
    "    print('=> Saving checkpoint')\n",
    "    torch.save(state, filename)\n",
    "    \n",
    "def load_checkpoint(checkpoint, model, optimizer):\n",
    "    print('=> Loading checkpoint')\n",
    "    model.load_state_dict(checkpoint['state_dict'])\n",
    "    optimizer.load_state_dict(checkpoint['optimizer'])"
   ]
  },
  {
   "cell_type": "code",
   "execution_count": 50,
   "metadata": {},
   "outputs": [],
   "source": [
    "# criterion = AngularSoftmaxWithLoss()\n",
    "criterion = nn.CrossEntropyLoss()\n",
    "metric_fc = AddMarginProduct(256, 35)\n",
    "\n",
    "optimizer = torch.optim.Adadelta([{'params': model.parameters()}, {'params': metric_fc.parameters()}],\n",
    "                                    lr=0.01, weight_decay=0.005)"
   ]
  },
  {
   "cell_type": "markdown",
   "metadata": {},
   "source": [
    "## Train Loop"
   ]
  },
  {
   "cell_type": "code",
   "execution_count": 51,
   "metadata": {},
   "outputs": [],
   "source": [
    "\n",
    "def train(num_epochs):\n",
    "    \n",
    "    \n",
    "    print('Starting Training..')\n",
    "    for e in range(0,num_epochs):\n",
    "        \n",
    "            \n",
    "        print('='*20)\n",
    "        print(f'Starting epoch {e + 1}/{num_epochs}')\n",
    "        print('='*20)\n",
    "        \n",
    "        train_loss = 0\n",
    "        \n",
    "        model.train().to(device)\n",
    "        \n",
    "        for train_step, (images, labels) in enumerate(train_dl):\n",
    "            optimizer.zero_grad()\n",
    "            images = images.to(device)\n",
    "            labels = labels.to(device).long()\n",
    "            \n",
    "            feature = model(images)\n",
    "            output = metric_fc(feature,labels)\n",
    "            \n",
    "            loss = criterion(output, labels)\n",
    "            \n",
    "            loss.backward(retain_graph = True)\n",
    "            optimizer.step()\n",
    "            \n",
    "            train_loss += loss.item()\n",
    "            \n",
    "            if (train_step) % 100 == 0:\n",
    "                print (\"Evaluating at step\", train_step)\n",
    "                print (f'Epoch [{e+1}/{num_epochs}], Loss: {loss.item():.4f}')\n",
    "            \n",
    "            \n",
    "\n",
    "        train_loss /= (train_step + 1)\n",
    "        print(f'Training Loss: {train_loss:.4f}')"
   ]
  },
  {
   "cell_type": "code",
   "execution_count": 52,
   "metadata": {},
   "outputs": [
    {
     "name": "stdout",
     "output_type": "stream",
     "text": [
      "Starting Training..\n",
      "====================\n",
      "Starting epoch 1/15\n",
      "====================\n",
      "Evaluating at step 0\n",
      "Epoch [1/15], Loss: 3.6604\n",
      "Evaluating at step 100\n",
      "Epoch [1/15], Loss: 3.3417\n",
      "Training Loss: 3.3880\n",
      "====================\n",
      "Starting epoch 2/15\n",
      "====================\n",
      "Evaluating at step 0\n",
      "Epoch [2/15], Loss: 3.2546\n",
      "Evaluating at step 100\n",
      "Epoch [2/15], Loss: 3.1592\n",
      "Training Loss: 3.1712\n",
      "====================\n",
      "Starting epoch 3/15\n",
      "====================\n",
      "Evaluating at step 0\n",
      "Epoch [3/15], Loss: 3.1149\n",
      "Evaluating at step 100\n",
      "Epoch [3/15], Loss: 3.0753\n",
      "Training Loss: 3.0638\n",
      "====================\n",
      "Starting epoch 4/15\n",
      "====================\n",
      "Evaluating at step 0\n",
      "Epoch [4/15], Loss: 3.0186\n",
      "Evaluating at step 100\n",
      "Epoch [4/15], Loss: 2.9862\n",
      "Training Loss: 2.9878\n",
      "====================\n",
      "Starting epoch 5/15\n",
      "====================\n",
      "Evaluating at step 0\n",
      "Epoch [5/15], Loss: 2.9509\n",
      "Evaluating at step 100\n",
      "Epoch [5/15], Loss: 2.9324\n",
      "Training Loss: 2.9308\n",
      "====================\n",
      "Starting epoch 6/15\n",
      "====================\n",
      "Evaluating at step 0\n",
      "Epoch [6/15], Loss: 2.9033\n",
      "Evaluating at step 100\n",
      "Epoch [6/15], Loss: 2.8752\n",
      "Training Loss: 2.8852\n",
      "====================\n",
      "Starting epoch 7/15\n",
      "====================\n",
      "Evaluating at step 0\n",
      "Epoch [7/15], Loss: 2.8677\n",
      "Evaluating at step 100\n",
      "Epoch [7/15], Loss: 2.8459\n",
      "Training Loss: 2.8497\n",
      "====================\n",
      "Starting epoch 8/15\n",
      "====================\n",
      "Evaluating at step 0\n",
      "Epoch [8/15], Loss: 2.8355\n",
      "Evaluating at step 100\n",
      "Epoch [8/15], Loss: 2.8261\n",
      "Training Loss: 2.8200\n",
      "====================\n",
      "Starting epoch 9/15\n",
      "====================\n",
      "Evaluating at step 0\n",
      "Epoch [9/15], Loss: 2.8014\n",
      "Evaluating at step 100\n",
      "Epoch [9/15], Loss: 2.7950\n",
      "Training Loss: 2.7967\n",
      "====================\n",
      "Starting epoch 10/15\n",
      "====================\n",
      "Evaluating at step 0\n",
      "Epoch [10/15], Loss: 2.7846\n",
      "Evaluating at step 100\n",
      "Epoch [10/15], Loss: 2.7890\n",
      "Training Loss: 2.7789\n",
      "====================\n",
      "Starting epoch 11/15\n",
      "====================\n",
      "Evaluating at step 0\n",
      "Epoch [11/15], Loss: 2.7821\n",
      "Evaluating at step 100\n",
      "Epoch [11/15], Loss: 2.7704\n",
      "Training Loss: 2.7641\n",
      "====================\n",
      "Starting epoch 12/15\n",
      "====================\n",
      "Evaluating at step 0\n",
      "Epoch [12/15], Loss: 2.7550\n",
      "Evaluating at step 100\n",
      "Epoch [12/15], Loss: 2.7494\n",
      "Training Loss: 2.7525\n",
      "====================\n",
      "Starting epoch 13/15\n",
      "====================\n",
      "Evaluating at step 0\n",
      "Epoch [13/15], Loss: 2.7455\n",
      "Evaluating at step 100\n",
      "Epoch [13/15], Loss: 2.7421\n",
      "Training Loss: 2.7437\n",
      "====================\n",
      "Starting epoch 14/15\n",
      "====================\n",
      "Evaluating at step 0\n",
      "Epoch [14/15], Loss: 2.7418\n",
      "Evaluating at step 100\n",
      "Epoch [14/15], Loss: 2.7359\n",
      "Training Loss: 2.7360\n",
      "====================\n",
      "Starting epoch 15/15\n",
      "====================\n",
      "Evaluating at step 0\n",
      "Epoch [15/15], Loss: 2.7281\n",
      "Evaluating at step 100\n",
      "Epoch [15/15], Loss: 2.7302\n",
      "Training Loss: 2.7295\n"
     ]
    }
   ],
   "source": [
    "train(num_epochs)"
   ]
  },
  {
   "cell_type": "markdown",
   "metadata": {},
   "source": [
    "## Test Function "
   ]
  },
  {
   "cell_type": "code",
   "execution_count": 53,
   "metadata": {},
   "outputs": [],
   "source": [
    "from sklearn.metrics import multilabel_confusion_matrix\n",
    "from sklearn.metrics import plot_confusion_matrix\n",
    "import matplotlib.pyplot as plt\n",
    "\n",
    "def test(model, test_loader, test_data):\n",
    "    \n",
    "    model.eval()\n",
    "    all_labels = torch.tensor([],dtype=torch.int64).to(device)\n",
    "    all_preds = torch.tensor([],dtype=torch.int64).to(device)\n",
    "    acc = 0\n",
    "    \n",
    "    with torch.no_grad():\n",
    "        for data, labels in test_loader:\n",
    "            data, labels = data.to(device), labels.to(device).int()\n",
    "            output = model(data)\n",
    "            #print(output.shape)\n",
    "            \n",
    "            output1 = metric_fc(output,labels)\n",
    "            m = nn.LogSoftmax()\n",
    "            \n",
    "            outputs = m(output1)\n",
    "            #print(outputs.shape)\n",
    "            \n",
    "            _, pred = torch.max(outputs, 1)\n",
    "            \n",
    "            #print(pred)\n",
    "            \n",
    "            acc += sum((pred == labels)).cpu().numpy()\n",
    "            preds = torch.argmax(outputs,1)\n",
    "            output1 = output1.cpu()\n",
    "            #labels = labels.cpu().numpy()\n",
    "            all_labels = torch.cat((all_labels, labels),dim=0)\n",
    "            #preds = preds.cpu().numpy()\n",
    "            all_preds = torch.cat((all_preds, preds),dim=0)\n",
    "            #print(labels)\n",
    "            #print(preds)\n",
    "    \n",
    "            \n",
    "            \n",
    "    acc = (acc/len(test_data))*100\n",
    "    print(f\"acc = {acc}\")\n",
    "    return all_labels,all_preds\n",
    "   \n",
    "        "
   ]
  },
  {
   "cell_type": "code",
   "execution_count": 54,
   "metadata": {},
   "outputs": [
    {
     "name": "stderr",
     "output_type": "stream",
     "text": [
      "<ipython-input-53-39c70374b301>:21: UserWarning: Implicit dimension choice for log_softmax has been deprecated. Change the call to include dim=X as an argument.\n",
      "  outputs = m(output1)\n"
     ]
    },
    {
     "name": "stdout",
     "output_type": "stream",
     "text": [
      "acc = 100.0\n"
     ]
    },
    {
     "data": {
      "text/plain": [
       "(tensor([17, 13, 31,  ..., 20,  5, 17], device='cuda:0'),\n",
       " tensor([17, 13, 31,  ..., 20,  5, 17], device='cuda:0'))"
      ]
     },
     "execution_count": 54,
     "metadata": {},
     "output_type": "execute_result"
    }
   ],
   "source": [
    "test(model, train_dl, train_data)"
   ]
  },
  {
   "cell_type": "code",
   "execution_count": 55,
   "metadata": {},
   "outputs": [
    {
     "name": "stderr",
     "output_type": "stream",
     "text": [
      "<ipython-input-53-39c70374b301>:21: UserWarning: Implicit dimension choice for log_softmax has been deprecated. Change the call to include dim=X as an argument.\n",
      "  outputs = m(output1)\n"
     ]
    },
    {
     "name": "stdout",
     "output_type": "stream",
     "text": [
      "acc = 43.83278145695364\n"
     ]
    },
    {
     "data": {
      "text/plain": [
       "(tensor([10, 18, 25,  ..., 34, 32, 17], device='cuda:0'),\n",
       " tensor([10, 17, 13,  ..., 34, 32, 18], device='cuda:0'))"
      ]
     },
     "execution_count": 55,
     "metadata": {},
     "output_type": "execute_result"
    }
   ],
   "source": [
    "test(model, val_dl, val_data)"
   ]
  },
  {
   "cell_type": "code",
   "execution_count": 56,
   "metadata": {},
   "outputs": [
    {
     "name": "stderr",
     "output_type": "stream",
     "text": [
      "<ipython-input-53-39c70374b301>:21: UserWarning: Implicit dimension choice for log_softmax has been deprecated. Change the call to include dim=X as an argument.\n",
      "  outputs = m(output1)\n"
     ]
    },
    {
     "name": "stdout",
     "output_type": "stream",
     "text": [
      "acc = 43.83278145695364\n"
     ]
    },
    {
     "data": {
      "text/plain": [
       "(tensor([ 0, 25, 30,  ..., 30, 18, 16], device='cuda:0'),\n",
       " tensor([22,  7, 30,  ..., 30, 18, 16], device='cuda:0'))"
      ]
     },
     "execution_count": 56,
     "metadata": {},
     "output_type": "execute_result"
    }
   ],
   "source": [
    "test(model, test_dl, test_data)"
   ]
  },
  {
   "cell_type": "code",
   "execution_count": 57,
   "metadata": {},
   "outputs": [
    {
     "name": "stderr",
     "output_type": "stream",
     "text": [
      "<ipython-input-53-39c70374b301>:21: UserWarning: Implicit dimension choice for log_softmax has been deprecated. Change the call to include dim=X as an argument.\n",
      "  outputs = m(output1)\n"
     ]
    },
    {
     "name": "stdout",
     "output_type": "stream",
     "text": [
      "acc = 43.83278145695364\n",
      "tensor([ 9,  8, 20,  ..., 16,  0,  1], device='cuda:0')\n",
      "tensor([12,  8, 32,  ..., 16,  5,  1], device='cuda:0')\n"
     ]
    },
    {
     "data": {
      "text/plain": [
       "torch.Size([2416])"
      ]
     },
     "execution_count": 57,
     "metadata": {},
     "output_type": "execute_result"
    }
   ],
   "source": [
    "train_labels, train_preds = test(model, test_dl, test_data)\n",
    "print(train_preds)\n",
    "print(train_labels)\n",
    "train_labels.shape"
   ]
  },
  {
   "cell_type": "code",
   "execution_count": 58,
   "metadata": {},
   "outputs": [],
   "source": [
    "# print(train_preds.requires_grad)\n",
    "train_labels = train_labels.cpu()\n",
    "train_preds = train_preds.cpu()\n"
   ]
  },
  {
   "cell_type": "code",
   "execution_count": 59,
   "metadata": {},
   "outputs": [
    {
     "data": {
      "text/plain": [
       "torch.Size([2416, 2])"
      ]
     },
     "execution_count": 59,
     "metadata": {},
     "output_type": "execute_result"
    }
   ],
   "source": [
    " stacked = torch.stack(\n",
    "    (\n",
    "        train_labels,train_preds\n",
    "    )\n",
    "    ,dim=1\n",
    ")\n",
    "stacked.shape"
   ]
  },
  {
   "cell_type": "code",
   "execution_count": 60,
   "metadata": {},
   "outputs": [
    {
     "data": {
      "text/plain": [
       "tensor([[12,  9],\n",
       "        [ 8,  8],\n",
       "        [32, 20],\n",
       "        ...,\n",
       "        [16, 16],\n",
       "        [ 5,  0],\n",
       "        [ 1,  1]])"
      ]
     },
     "execution_count": 60,
     "metadata": {},
     "output_type": "execute_result"
    }
   ],
   "source": [
    "stacked"
   ]
  },
  {
   "cell_type": "code",
   "execution_count": 61,
   "metadata": {},
   "outputs": [],
   "source": [
    "# stacked[0].tolist()"
   ]
  },
  {
   "cell_type": "code",
   "execution_count": 62,
   "metadata": {},
   "outputs": [
    {
     "data": {
      "text/plain": [
       "torch.Size([35, 35])"
      ]
     },
     "execution_count": 62,
     "metadata": {},
     "output_type": "execute_result"
    }
   ],
   "source": [
    "cmt = torch.zeros(35,35,dtype = torch.int64)\n",
    "cmt.shape"
   ]
  },
  {
   "cell_type": "code",
   "execution_count": 63,
   "metadata": {},
   "outputs": [
    {
     "data": {
      "text/plain": [
       "tensor([[22,  0,  7,  ...,  3,  0,  0],\n",
       "        [ 2,  4,  0,  ...,  1,  0,  0],\n",
       "        [12,  0, 43,  ...,  8,  0,  0],\n",
       "        ...,\n",
       "        [ 0,  0,  0,  ..., 52,  0,  0],\n",
       "        [ 0,  0,  0,  ..., 11, 29,  2],\n",
       "        [ 0,  0,  0,  ...,  1,  8, 55]])"
      ]
     },
     "execution_count": 63,
     "metadata": {},
     "output_type": "execute_result"
    }
   ],
   "source": [
    "for p in stacked:\n",
    "    tl, pl = p.tolist()\n",
    "    cmt[tl, pl] = cmt[tl, pl] + 1\n",
    "cmt"
   ]
  },
  {
   "cell_type": "code",
   "execution_count": 64,
   "metadata": {},
   "outputs": [
    {
     "name": "stdout",
     "output_type": "stream",
     "text": [
      "<class 'numpy.ndarray'>\n"
     ]
    },
    {
     "data": {
      "text/plain": [
       "array([[22,  0,  7, ...,  3,  0,  0],\n",
       "       [ 2,  4,  0, ...,  1,  0,  0],\n",
       "       [12,  0, 43, ...,  8,  0,  0],\n",
       "       ...,\n",
       "       [ 0,  0,  0, ..., 52,  0,  0],\n",
       "       [ 0,  0,  0, ..., 11, 29,  2],\n",
       "       [ 0,  0,  0, ...,  1,  8, 55]], dtype=int64)"
      ]
     },
     "execution_count": 64,
     "metadata": {},
     "output_type": "execute_result"
    }
   ],
   "source": [
    "cm = confusion_matrix(train_labels, train_preds)\n",
    "print(type(cm))\n",
    "cm"
   ]
  },
  {
   "cell_type": "markdown",
   "metadata": {},
   "source": [
    "## Confusion Matrix"
   ]
  },
  {
   "cell_type": "code",
   "execution_count": 65,
   "metadata": {},
   "outputs": [],
   "source": [
    "import numpy as np\n",
    "import matplotlib.pyplot as plt\n",
    "import itertools\n",
    "\n",
    "def plot_confusion_matrix(cm, classes, normalize=False, title='Confusion matrix', cmap=plt.cm.Blues):\n",
    "    if normalize:\n",
    "        cm = cm.astype('float') / cm.sum(axis=1)[:, np.newaxis]\n",
    "        print(\"Normalized confusion matrix\")\n",
    "    else:\n",
    "        print('Confusion matrix, without normalization')\n",
    "\n",
    "    print(cm)\n",
    "    plt.imshow(cm, interpolation='nearest', cmap=cmap)\n",
    "    plt.title(title)\n",
    "    plt.colorbar()\n",
    "    tick_marks = np.arange(len(classes))\n",
    "    plt.xticks(tick_marks, classes, rotation=45)\n",
    "    plt.yticks(tick_marks, classes)\n",
    "\n",
    "    fmt = '.2f' if normalize else 'd'\n",
    "    thresh = cm.max() / 2.\n",
    "    for i, j in itertools.product(range(cm.shape[0]), range(cm.shape[1])):\n",
    "        plt.text(i, j, format(cm[i, j], fmt), horizontalalignment=\"center\", color=\"white\" if cm[i, j] > thresh else \"black\")\n",
    "\n",
    "    plt.tight_layout()\n",
    "    plt.ylabel('True label')\n",
    "    plt.xlabel('Predicted label')"
   ]
  },
  {
   "cell_type": "code",
   "execution_count": 66,
   "metadata": {},
   "outputs": [
    {
     "name": "stdout",
     "output_type": "stream",
     "text": [
      "Confusion matrix, without normalization\n",
      "tensor([[22,  0,  7,  ...,  3,  0,  0],\n",
      "        [ 2,  4,  0,  ...,  1,  0,  0],\n",
      "        [12,  0, 43,  ...,  8,  0,  0],\n",
      "        ...,\n",
      "        [ 0,  0,  0,  ..., 52,  0,  0],\n",
      "        [ 0,  0,  0,  ..., 11, 29,  2],\n",
      "        [ 0,  0,  0,  ...,  1,  8, 55]])\n"
     ]
    },
    {
     "data": {
      "image/png": "[encoded data removed]",
      "text/plain": [
       "<Figure size 1440x1440 with 2 Axes>"
      ]
     },
     "metadata": {
      "needs_background": "light"
     },
     "output_type": "display_data"
    }
   ],
   "source": [
    "labels_names=[\"1\", \"2\",\"3\",\"4\",\"5\",\n",
    "            \"6\", \"7\",\"8\",\"9\",\"10\",\n",
    "            \"11\", \"12\",\"13\",\"14\",\"15\",\n",
    "            \"16\", \"17\",\"18\",\"19\",\"20\",\n",
    "            \"21\", \"22\",\"23\",\"24\",\"25\",\n",
    "            \"26\", \"27\",\"28\",\"29\",\"30\",\n",
    "            \"31\", \"32\",\"33\",\"34\",\"35\"]\n",
    "\n",
    "plt.figure(figsize=(20,20))\n",
    "fig = plot_confusion_matrix(cmt, labels_names)\n",
    "\n",
    "\n",
    "plt.savefig('output.png', dpi=500)"
   ]
  }
 ],
 "metadata": {
  "kernelspec": {
   "display_name": "Python 3",
   "language": "python",
   "name": "python3"
  },
  "language_info": {
   "codemirror_mode": {
    "name": "ipython",
    "version": 3
   },
   "file_extension": ".py",
   "mimetype": "text/x-python",
   "name": "python",
   "nbconvert_exporter": "python",
   "pygments_lexer": "ipython3",
   "version": "3.8.5"
  }
 },
 "nbformat": 4,
 "nbformat_minor": 4
}
