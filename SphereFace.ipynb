{
 "cells": [
  {
   "cell_type": "markdown",
   "metadata": {},
   "source": [
    "## Import Libraries"
   ]
  },
  {
   "cell_type": "code",
   "execution_count": 5,
   "metadata": {},
   "outputs": [],
   "source": [
    "#imports\n",
    "import os\n",
    "import torch\n",
    "import torchvision\n",
    "import torch.nn as nn\n",
    "import matplotlib.pyplot as plt\n",
    "from sklearn.metrics import confusion_matrix\n",
    "import torch.optim as optim\n",
    "import torch.nn.functional as F\n",
    "from torch.utils.data import DataLoader\n",
    "from torchvision.datasets import ImageFolder\n",
    "from torchvision.transforms import ToTensor, Normalize\n",
    "import torchvision.datasets as datasets\n",
    "import torchvision.transforms as transforms\n",
    "import torch.optim.lr_scheduler as lr_scheduler\n",
    "from torch.nn import Parameter\n",
    "from torch.autograd import Variable\n",
    "import math"
   ]
  },
  {
   "cell_type": "markdown",
   "metadata": {},
   "source": [
    "### Task for Increaing Performance"
   ]
  },
  {
   "cell_type": "markdown",
   "metadata": {},
   "source": [
    "1. Built in VGG, RESNET34, RESNET18, RESNET50 (FZ) ✔\n",
    "\n",
    "2. Dense Layer ✔\n",
    "\n",
    "3. Weights and Biases Saved ❌\n",
    "\n",
    "4. Freezing Layer -- VGG (SGD, ADAM) ✔\n",
    "\n",
    "5. Dropout -- p = 0.25 ( Result: Decrease Performance) ✔\n",
    "\n",
    "6. optimizer -- SGD works better ✔\n",
    "\n",
    "7. Learning rate -- 0.01 works better ✔\n",
    "\n",
    "8. margin decrease from 0.35 to 0.1 which gives 45.28 accuracy ✔\n",
    "\n",
    "9. s=2 works better ✔\n",
    "\n",
    "10. Batch size 100 works better than 32,128 ✔\n",
    "\n",
    "11. Activation changed ELU, Relu works better than ELU ✔\n",
    "\n",
    "12. pre-trained - True works better ✔\n",
    "\n",
    "13. BatchNorm1d works better ✔\n",
    "\n",
    "14. Laplacian processing is done but doesn't improve result  ✔\n",
    "\n",
    "15. Center Loss code is implemented but doesn't converge ✔\n",
    "\n",
    "16. Data is normalized ✔\n",
    "\n",
    "17. At m = 2, SphereFace performs 48.97% accuracy with (512-256 layers) ✔ \n",
    "\n",
    "\n"
   ]
  },
  {
   "cell_type": "markdown",
   "metadata": {},
   "source": [
    "### Data Loading"
   ]
  },
  {
   "cell_type": "code",
   "execution_count": 6,
   "metadata": {},
   "outputs": [],
   "source": [
    "#directories\n",
    "\n",
    "BDSL_TRAIN = 'E:/Bangla Sign Alphabet/Bangla Sign Alphabet Data/BDSL/BDSL_split/train'\n",
    "BDSL_VAL = 'E:/Bangla Sign Alphabet/Bangla Sign Alphabet Data/BDSL/BDSL_split/val'\n",
    "BDSL_TEST = 'E:/Bangla Sign Alphabet/Bangla Sign Alphabet Data/BDSL/BDSL_split/test'\n",
    "\n",
    "ISHARA_AUGMENTED_TRAIN = 'E:/Bangla Sign Alphabet/Bangla Sign Alphabet Data/Isharalipi_augmentated/Isharalipi_augmentated_split/train'\n",
    "\n",
    "ISHARA_AUGMENTED_VAL = 'E:/Bangla Sign Alphabet/Bangla Sign Alphabet Data/Isharalipi_augmentated/Isharalipi_augmentated_split/val'\n",
    "ISHARA_AUGMENTED_TEST = 'E:/Bangla Sign Alphabet/Bangla Sign Alphabet Data/Isharalipi_augmentated/Isharalipi_augmentated_split/test'\n",
    "\n",
    "ISHARA_MAIN = 'E:/Bangla Sign Alphabet/Bangla Sign Alphabet Data/Isharalipi_original/Isharalipi_original_main'"
   ]
  },
  {
   "cell_type": "code",
   "execution_count": 7,
   "metadata": {},
   "outputs": [],
   "source": [
    "TRAIN_DIRECTORY = ISHARA_AUGMENTED_TRAIN\n",
    "VAL_DIRECTORY = ISHARA_AUGMENTED_VAL\n",
    "TEST_DIRECTORY = ISHARA_AUGMENTED_TEST"
   ]
  },
  {
   "cell_type": "code",
   "execution_count": 8,
   "metadata": {},
   "outputs": [],
   "source": [
    "img_transform = transforms.Compose([transforms.Resize((64,64)), \n",
    "                                    transforms.ToTensor(),\n",
    "                                    transforms.Normalize(mean = [0.485,0.456,0.406],\n",
    "                                    std = [0.229,0.224,0.225])])\n",
    "\n",
    "train_data = ImageFolder(TRAIN_DIRECTORY, transform=img_transform)\n",
    "val_data = ImageFolder(VAL_DIRECTORY, transform=img_transform)\n",
    "test_data = ImageFolder(TEST_DIRECTORY, transform=img_transform)"
   ]
  },
  {
   "cell_type": "code",
   "execution_count": 9,
   "metadata": {},
   "outputs": [
    {
     "name": "stdout",
     "output_type": "stream",
     "text": [
      "{'10': 0, '11': 1, '12': 2, '13': 3, '14': 4, '15': 5, '16': 6, '17': 7, '18': 8, '19': 9, '20': 10, '21': 11, '22': 12, '23': 13, '24': 14, '25': 15, '26': 16, '27': 17, '28': 18, '29': 19, '30': 20, '31': 21, '32': 22, '33': 23, '34': 24, '35': 25, '36': 26, '37': 27, '38': 28, '39': 29, '40': 30, '41': 31, '42': 32, '43': 33, '44': 34}\n"
     ]
    }
   ],
   "source": [
    "list_of_classes = train_data.class_to_idx\n",
    "print(list_of_classes)"
   ]
  },
  {
   "cell_type": "code",
   "execution_count": 10,
   "metadata": {},
   "outputs": [],
   "source": [
    "# Device configuration\n",
    "device = torch.device('cuda')"
   ]
  },
  {
   "cell_type": "markdown",
   "metadata": {},
   "source": [
    "### Hyperparameters"
   ]
  },
  {
   "cell_type": "code",
   "execution_count": 11,
   "metadata": {},
   "outputs": [],
   "source": [
    "# Hyper-parameters \n",
    "num_epochs = 30\n",
    "batch_size = 100\n",
    "learning_rate = 0.01\n",
    "\n",
    "load_model = False"
   ]
  },
  {
   "cell_type": "code",
   "execution_count": 12,
   "metadata": {},
   "outputs": [],
   "source": [
    "train_dl = DataLoader(train_data, batch_size, shuffle=True, num_workers=4, pin_memory=True)\n",
    "test_dl = DataLoader(test_data, batch_size*2, shuffle=True, num_workers=4, pin_memory=True)\n",
    "val_dl = DataLoader(val_data, batch_size*2,shuffle=True, num_workers=4, pin_memory=True)"
   ]
  },
  {
   "cell_type": "code",
   "execution_count": 13,
   "metadata": {},
   "outputs": [
    {
     "name": "stdout",
     "output_type": "stream",
     "text": [
      "torch.Size([3, 64, 64]) 0\n"
     ]
    }
   ],
   "source": [
    "label = torch.tensor([])\n",
    "img, label = test_data[5]\n",
    "print(img.shape, label)"
   ]
  },
  {
   "cell_type": "code",
   "execution_count": 14,
   "metadata": {},
   "outputs": [
    {
     "name": "stdout",
     "output_type": "stream",
     "text": [
      "18968\n",
      "2353\n",
      "2372\n"
     ]
    }
   ],
   "source": [
    "print(len(train_data))\n",
    "print(len(val_data))\n",
    "print(len(test_data))"
   ]
  },
  {
   "cell_type": "code",
   "execution_count": 15,
   "metadata": {},
   "outputs": [
    {
     "name": "stdout",
     "output_type": "stream",
     "text": [
      "Requirement already satisfied: torch-summary in c:\\users\\user\\anaconda3\\lib\\site-packages (1.4.5)\n",
      "Note: you may need to restart the kernel to use updated packages.\n"
     ]
    }
   ],
   "source": [
    "pip install torch-summary"
   ]
  },
  {
   "cell_type": "markdown",
   "metadata": {},
   "source": [
    "## MODEL "
   ]
  },
  {
   "cell_type": "code",
   "execution_count": 16,
   "metadata": {},
   "outputs": [
    {
     "data": {
      "text/plain": [
       "ResNet(\n",
       "  (conv1): Conv2d(3, 64, kernel_size=(7, 7), stride=(2, 2), padding=(3, 3), bias=False)\n",
       "  (bn1): BatchNorm2d(64, eps=1e-05, momentum=0.1, affine=True, track_running_stats=True)\n",
       "  (relu): ReLU(inplace=True)\n",
       "  (maxpool): MaxPool2d(kernel_size=3, stride=2, padding=1, dilation=1, ceil_mode=False)\n",
       "  (layer1): Sequential(\n",
       "    (0): Bottleneck(\n",
       "      (conv1): Conv2d(64, 128, kernel_size=(1, 1), stride=(1, 1), bias=False)\n",
       "      (bn1): BatchNorm2d(128, eps=1e-05, momentum=0.1, affine=True, track_running_stats=True)\n",
       "      (conv2): Conv2d(128, 128, kernel_size=(3, 3), stride=(1, 1), padding=(1, 1), groups=32, bias=False)\n",
       "      (bn2): BatchNorm2d(128, eps=1e-05, momentum=0.1, affine=True, track_running_stats=True)\n",
       "      (conv3): Conv2d(128, 256, kernel_size=(1, 1), stride=(1, 1), bias=False)\n",
       "      (bn3): BatchNorm2d(256, eps=1e-05, momentum=0.1, affine=True, track_running_stats=True)\n",
       "      (relu): ReLU(inplace=True)\n",
       "      (downsample): Sequential(\n",
       "        (0): Conv2d(64, 256, kernel_size=(1, 1), stride=(1, 1), bias=False)\n",
       "        (1): BatchNorm2d(256, eps=1e-05, momentum=0.1, affine=True, track_running_stats=True)\n",
       "      )\n",
       "    )\n",
       "    (1): Bottleneck(\n",
       "      (conv1): Conv2d(256, 128, kernel_size=(1, 1), stride=(1, 1), bias=False)\n",
       "      (bn1): BatchNorm2d(128, eps=1e-05, momentum=0.1, affine=True, track_running_stats=True)\n",
       "      (conv2): Conv2d(128, 128, kernel_size=(3, 3), stride=(1, 1), padding=(1, 1), groups=32, bias=False)\n",
       "      (bn2): BatchNorm2d(128, eps=1e-05, momentum=0.1, affine=True, track_running_stats=True)\n",
       "      (conv3): Conv2d(128, 256, kernel_size=(1, 1), stride=(1, 1), bias=False)\n",
       "      (bn3): BatchNorm2d(256, eps=1e-05, momentum=0.1, affine=True, track_running_stats=True)\n",
       "      (relu): ReLU(inplace=True)\n",
       "    )\n",
       "    (2): Bottleneck(\n",
       "      (conv1): Conv2d(256, 128, kernel_size=(1, 1), stride=(1, 1), bias=False)\n",
       "      (bn1): BatchNorm2d(128, eps=1e-05, momentum=0.1, affine=True, track_running_stats=True)\n",
       "      (conv2): Conv2d(128, 128, kernel_size=(3, 3), stride=(1, 1), padding=(1, 1), groups=32, bias=False)\n",
       "      (bn2): BatchNorm2d(128, eps=1e-05, momentum=0.1, affine=True, track_running_stats=True)\n",
       "      (conv3): Conv2d(128, 256, kernel_size=(1, 1), stride=(1, 1), bias=False)\n",
       "      (bn3): BatchNorm2d(256, eps=1e-05, momentum=0.1, affine=True, track_running_stats=True)\n",
       "      (relu): ReLU(inplace=True)\n",
       "    )\n",
       "  )\n",
       "  (layer2): Sequential(\n",
       "    (0): Bottleneck(\n",
       "      (conv1): Conv2d(256, 256, kernel_size=(1, 1), stride=(1, 1), bias=False)\n",
       "      (bn1): BatchNorm2d(256, eps=1e-05, momentum=0.1, affine=True, track_running_stats=True)\n",
       "      (conv2): Conv2d(256, 256, kernel_size=(3, 3), stride=(2, 2), padding=(1, 1), groups=32, bias=False)\n",
       "      (bn2): BatchNorm2d(256, eps=1e-05, momentum=0.1, affine=True, track_running_stats=True)\n",
       "      (conv3): Conv2d(256, 512, kernel_size=(1, 1), stride=(1, 1), bias=False)\n",
       "      (bn3): BatchNorm2d(512, eps=1e-05, momentum=0.1, affine=True, track_running_stats=True)\n",
       "      (relu): ReLU(inplace=True)\n",
       "      (downsample): Sequential(\n",
       "        (0): Conv2d(256, 512, kernel_size=(1, 1), stride=(2, 2), bias=False)\n",
       "        (1): BatchNorm2d(512, eps=1e-05, momentum=0.1, affine=True, track_running_stats=True)\n",
       "      )\n",
       "    )\n",
       "    (1): Bottleneck(\n",
       "      (conv1): Conv2d(512, 256, kernel_size=(1, 1), stride=(1, 1), bias=False)\n",
       "      (bn1): BatchNorm2d(256, eps=1e-05, momentum=0.1, affine=True, track_running_stats=True)\n",
       "      (conv2): Conv2d(256, 256, kernel_size=(3, 3), stride=(1, 1), padding=(1, 1), groups=32, bias=False)\n",
       "      (bn2): BatchNorm2d(256, eps=1e-05, momentum=0.1, affine=True, track_running_stats=True)\n",
       "      (conv3): Conv2d(256, 512, kernel_size=(1, 1), stride=(1, 1), bias=False)\n",
       "      (bn3): BatchNorm2d(512, eps=1e-05, momentum=0.1, affine=True, track_running_stats=True)\n",
       "      (relu): ReLU(inplace=True)\n",
       "    )\n",
       "    (2): Bottleneck(\n",
       "      (conv1): Conv2d(512, 256, kernel_size=(1, 1), stride=(1, 1), bias=False)\n",
       "      (bn1): BatchNorm2d(256, eps=1e-05, momentum=0.1, affine=True, track_running_stats=True)\n",
       "      (conv2): Conv2d(256, 256, kernel_size=(3, 3), stride=(1, 1), padding=(1, 1), groups=32, bias=False)\n",
       "      (bn2): BatchNorm2d(256, eps=1e-05, momentum=0.1, affine=True, track_running_stats=True)\n",
       "      (conv3): Conv2d(256, 512, kernel_size=(1, 1), stride=(1, 1), bias=False)\n",
       "      (bn3): BatchNorm2d(512, eps=1e-05, momentum=0.1, affine=True, track_running_stats=True)\n",
       "      (relu): ReLU(inplace=True)\n",
       "    )\n",
       "    (3): Bottleneck(\n",
       "      (conv1): Conv2d(512, 256, kernel_size=(1, 1), stride=(1, 1), bias=False)\n",
       "      (bn1): BatchNorm2d(256, eps=1e-05, momentum=0.1, affine=True, track_running_stats=True)\n",
       "      (conv2): Conv2d(256, 256, kernel_size=(3, 3), stride=(1, 1), padding=(1, 1), groups=32, bias=False)\n",
       "      (bn2): BatchNorm2d(256, eps=1e-05, momentum=0.1, affine=True, track_running_stats=True)\n",
       "      (conv3): Conv2d(256, 512, kernel_size=(1, 1), stride=(1, 1), bias=False)\n",
       "      (bn3): BatchNorm2d(512, eps=1e-05, momentum=0.1, affine=True, track_running_stats=True)\n",
       "      (relu): ReLU(inplace=True)\n",
       "    )\n",
       "  )\n",
       "  (layer3): Sequential(\n",
       "    (0): Bottleneck(\n",
       "      (conv1): Conv2d(512, 512, kernel_size=(1, 1), stride=(1, 1), bias=False)\n",
       "      (bn1): BatchNorm2d(512, eps=1e-05, momentum=0.1, affine=True, track_running_stats=True)\n",
       "      (conv2): Conv2d(512, 512, kernel_size=(3, 3), stride=(2, 2), padding=(1, 1), groups=32, bias=False)\n",
       "      (bn2): BatchNorm2d(512, eps=1e-05, momentum=0.1, affine=True, track_running_stats=True)\n",
       "      (conv3): Conv2d(512, 1024, kernel_size=(1, 1), stride=(1, 1), bias=False)\n",
       "      (bn3): BatchNorm2d(1024, eps=1e-05, momentum=0.1, affine=True, track_running_stats=True)\n",
       "      (relu): ReLU(inplace=True)\n",
       "      (downsample): Sequential(\n",
       "        (0): Conv2d(512, 1024, kernel_size=(1, 1), stride=(2, 2), bias=False)\n",
       "        (1): BatchNorm2d(1024, eps=1e-05, momentum=0.1, affine=True, track_running_stats=True)\n",
       "      )\n",
       "    )\n",
       "    (1): Bottleneck(\n",
       "      (conv1): Conv2d(1024, 512, kernel_size=(1, 1), stride=(1, 1), bias=False)\n",
       "      (bn1): BatchNorm2d(512, eps=1e-05, momentum=0.1, affine=True, track_running_stats=True)\n",
       "      (conv2): Conv2d(512, 512, kernel_size=(3, 3), stride=(1, 1), padding=(1, 1), groups=32, bias=False)\n",
       "      (bn2): BatchNorm2d(512, eps=1e-05, momentum=0.1, affine=True, track_running_stats=True)\n",
       "      (conv3): Conv2d(512, 1024, kernel_size=(1, 1), stride=(1, 1), bias=False)\n",
       "      (bn3): BatchNorm2d(1024, eps=1e-05, momentum=0.1, affine=True, track_running_stats=True)\n",
       "      (relu): ReLU(inplace=True)\n",
       "    )\n",
       "    (2): Bottleneck(\n",
       "      (conv1): Conv2d(1024, 512, kernel_size=(1, 1), stride=(1, 1), bias=False)\n",
       "      (bn1): BatchNorm2d(512, eps=1e-05, momentum=0.1, affine=True, track_running_stats=True)\n",
       "      (conv2): Conv2d(512, 512, kernel_size=(3, 3), stride=(1, 1), padding=(1, 1), groups=32, bias=False)\n",
       "      (bn2): BatchNorm2d(512, eps=1e-05, momentum=0.1, affine=True, track_running_stats=True)\n",
       "      (conv3): Conv2d(512, 1024, kernel_size=(1, 1), stride=(1, 1), bias=False)\n",
       "      (bn3): BatchNorm2d(1024, eps=1e-05, momentum=0.1, affine=True, track_running_stats=True)\n",
       "      (relu): ReLU(inplace=True)\n",
       "    )\n",
       "    (3): Bottleneck(\n",
       "      (conv1): Conv2d(1024, 512, kernel_size=(1, 1), stride=(1, 1), bias=False)\n",
       "      (bn1): BatchNorm2d(512, eps=1e-05, momentum=0.1, affine=True, track_running_stats=True)\n",
       "      (conv2): Conv2d(512, 512, kernel_size=(3, 3), stride=(1, 1), padding=(1, 1), groups=32, bias=False)\n",
       "      (bn2): BatchNorm2d(512, eps=1e-05, momentum=0.1, affine=True, track_running_stats=True)\n",
       "      (conv3): Conv2d(512, 1024, kernel_size=(1, 1), stride=(1, 1), bias=False)\n",
       "      (bn3): BatchNorm2d(1024, eps=1e-05, momentum=0.1, affine=True, track_running_stats=True)\n",
       "      (relu): ReLU(inplace=True)\n",
       "    )\n",
       "    (4): Bottleneck(\n",
       "      (conv1): Conv2d(1024, 512, kernel_size=(1, 1), stride=(1, 1), bias=False)\n",
       "      (bn1): BatchNorm2d(512, eps=1e-05, momentum=0.1, affine=True, track_running_stats=True)\n",
       "      (conv2): Conv2d(512, 512, kernel_size=(3, 3), stride=(1, 1), padding=(1, 1), groups=32, bias=False)\n",
       "      (bn2): BatchNorm2d(512, eps=1e-05, momentum=0.1, affine=True, track_running_stats=True)\n",
       "      (conv3): Conv2d(512, 1024, kernel_size=(1, 1), stride=(1, 1), bias=False)\n",
       "      (bn3): BatchNorm2d(1024, eps=1e-05, momentum=0.1, affine=True, track_running_stats=True)\n",
       "      (relu): ReLU(inplace=True)\n",
       "    )\n",
       "    (5): Bottleneck(\n",
       "      (conv1): Conv2d(1024, 512, kernel_size=(1, 1), stride=(1, 1), bias=False)\n",
       "      (bn1): BatchNorm2d(512, eps=1e-05, momentum=0.1, affine=True, track_running_stats=True)\n",
       "      (conv2): Conv2d(512, 512, kernel_size=(3, 3), stride=(1, 1), padding=(1, 1), groups=32, bias=False)\n",
       "      (bn2): BatchNorm2d(512, eps=1e-05, momentum=0.1, affine=True, track_running_stats=True)\n",
       "      (conv3): Conv2d(512, 1024, kernel_size=(1, 1), stride=(1, 1), bias=False)\n",
       "      (bn3): BatchNorm2d(1024, eps=1e-05, momentum=0.1, affine=True, track_running_stats=True)\n",
       "      (relu): ReLU(inplace=True)\n",
       "    )\n",
       "  )\n",
       "  (layer4): Sequential(\n",
       "    (0): Bottleneck(\n",
       "      (conv1): Conv2d(1024, 1024, kernel_size=(1, 1), stride=(1, 1), bias=False)\n",
       "      (bn1): BatchNorm2d(1024, eps=1e-05, momentum=0.1, affine=True, track_running_stats=True)\n",
       "      (conv2): Conv2d(1024, 1024, kernel_size=(3, 3), stride=(2, 2), padding=(1, 1), groups=32, bias=False)\n",
       "      (bn2): BatchNorm2d(1024, eps=1e-05, momentum=0.1, affine=True, track_running_stats=True)\n",
       "      (conv3): Conv2d(1024, 2048, kernel_size=(1, 1), stride=(1, 1), bias=False)\n",
       "      (bn3): BatchNorm2d(2048, eps=1e-05, momentum=0.1, affine=True, track_running_stats=True)\n",
       "      (relu): ReLU(inplace=True)\n",
       "      (downsample): Sequential(\n",
       "        (0): Conv2d(1024, 2048, kernel_size=(1, 1), stride=(2, 2), bias=False)\n",
       "        (1): BatchNorm2d(2048, eps=1e-05, momentum=0.1, affine=True, track_running_stats=True)\n",
       "      )\n",
       "    )\n",
       "    (1): Bottleneck(\n",
       "      (conv1): Conv2d(2048, 1024, kernel_size=(1, 1), stride=(1, 1), bias=False)\n",
       "      (bn1): BatchNorm2d(1024, eps=1e-05, momentum=0.1, affine=True, track_running_stats=True)\n",
       "      (conv2): Conv2d(1024, 1024, kernel_size=(3, 3), stride=(1, 1), padding=(1, 1), groups=32, bias=False)\n",
       "      (bn2): BatchNorm2d(1024, eps=1e-05, momentum=0.1, affine=True, track_running_stats=True)\n",
       "      (conv3): Conv2d(1024, 2048, kernel_size=(1, 1), stride=(1, 1), bias=False)\n",
       "      (bn3): BatchNorm2d(2048, eps=1e-05, momentum=0.1, affine=True, track_running_stats=True)\n",
       "      (relu): ReLU(inplace=True)\n",
       "    )\n",
       "    (2): Bottleneck(\n",
       "      (conv1): Conv2d(2048, 1024, kernel_size=(1, 1), stride=(1, 1), bias=False)\n",
       "      (bn1): BatchNorm2d(1024, eps=1e-05, momentum=0.1, affine=True, track_running_stats=True)\n",
       "      (conv2): Conv2d(1024, 1024, kernel_size=(3, 3), stride=(1, 1), padding=(1, 1), groups=32, bias=False)\n",
       "      (bn2): BatchNorm2d(1024, eps=1e-05, momentum=0.1, affine=True, track_running_stats=True)\n",
       "      (conv3): Conv2d(1024, 2048, kernel_size=(1, 1), stride=(1, 1), bias=False)\n",
       "      (bn3): BatchNorm2d(2048, eps=1e-05, momentum=0.1, affine=True, track_running_stats=True)\n",
       "      (relu): ReLU(inplace=True)\n",
       "    )\n",
       "  )\n",
       "  (avgpool): AdaptiveAvgPool2d(output_size=(1, 1))\n",
       "  (fc): Linear(in_features=2048, out_features=1000, bias=True)\n",
       ")"
      ]
     },
     "execution_count": 16,
     "metadata": {},
     "output_type": "execute_result"
    }
   ],
   "source": [
    "#load pretrained model\n",
    "import torchvision.models as models\n",
    "\n",
    "#model = models.resnet18(pretrained=True)\n",
    "#model = models.alexnet(pretrained=False)\n",
    "# model = models.squeezenet1_0(pretrained=True)\n",
    "#model = models.vgg19(pretrained = True)\n",
    "#model = models.vgg16(pretrained=True)\n",
    "#model = models.vgg19_bn(pretrained=True)\n",
    "# model = models.densenet161(pretrained=True)\n",
    "# model = models.inception_v3(pretrained=True)\n",
    "# model = models.googlenet(pretrained=True)\n",
    "# model = models.shufflenet_v2_x1_0(pretrained=False)\n",
    "# model = models.mobilenet_v2(pretrained=False)\n",
    "model = models.resnext50_32x4d(pretrained=True)\n",
    "# model = models.wide_resnet50_2(pretrained=True)\n",
    "# model = models.mnasnet1_0(pretrained=True)\n",
    "#model = models.resnet50(pretrained=True)\n",
    "#in_features\n",
    "resnet18 = 512\n",
    "alexnet = 256*6*6\n",
    "# squeezenet1_0 = 1000\n",
    "vgg16 = 512*7*7\n",
    "# densenet161\n",
    "# inception_v3\n",
    "googlenet = 1000\n",
    "shufflenet_v2_x1_0 = 1000\n",
    "mobilenet_v2 = 1280\n",
    "resnext50_32x4d = 1000\n",
    "# wide_resnet50_2 = 1000\n",
    "# mnasnet1_0 = 1000\n",
    "model \n",
    "\n",
    "# from torchsummary import summary\n",
    "\n",
    "# summary(model, (3, 64, 64))"
   ]
  },
  {
   "cell_type": "code",
   "execution_count": 17,
   "metadata": {},
   "outputs": [],
   "source": [
    "# #RESNET\n",
    "\n",
    "model.fc = torch.nn.Sequential(\n",
    "    torch.nn.Linear(\n",
    "        in_features=2048,\n",
    "        out_features=512\n",
    "    ),\n",
    "    nn.ReLU(inplace=True),\n",
    "    nn.BatchNorm1d(512, eps=1e-05, momentum=0.1, affine=True),\n",
    "    torch.nn.Linear(\n",
    "        in_features=512,\n",
    "        out_features=256\n",
    "    ),\n",
    "    nn.ReLU(inplace=True),\n",
    "    nn.BatchNorm1d(256, eps=1e-05, momentum=0.1, affine=True),\n",
    "    nn.Linear(in_features=256, out_features=256, bias=True),\n",
    ")\n",
    "                      "
   ]
  },
  {
   "cell_type": "code",
   "execution_count": 18,
   "metadata": {},
   "outputs": [
    {
     "data": {
      "text/plain": [
       "ResNet(\n",
       "  (conv1): Conv2d(3, 64, kernel_size=(7, 7), stride=(2, 2), padding=(3, 3), bias=False)\n",
       "  (bn1): BatchNorm2d(64, eps=1e-05, momentum=0.1, affine=True, track_running_stats=True)\n",
       "  (relu): ReLU(inplace=True)\n",
       "  (maxpool): MaxPool2d(kernel_size=3, stride=2, padding=1, dilation=1, ceil_mode=False)\n",
       "  (layer1): Sequential(\n",
       "    (0): Bottleneck(\n",
       "      (conv1): Conv2d(64, 128, kernel_size=(1, 1), stride=(1, 1), bias=False)\n",
       "      (bn1): BatchNorm2d(128, eps=1e-05, momentum=0.1, affine=True, track_running_stats=True)\n",
       "      (conv2): Conv2d(128, 128, kernel_size=(3, 3), stride=(1, 1), padding=(1, 1), groups=32, bias=False)\n",
       "      (bn2): BatchNorm2d(128, eps=1e-05, momentum=0.1, affine=True, track_running_stats=True)\n",
       "      (conv3): Conv2d(128, 256, kernel_size=(1, 1), stride=(1, 1), bias=False)\n",
       "      (bn3): BatchNorm2d(256, eps=1e-05, momentum=0.1, affine=True, track_running_stats=True)\n",
       "      (relu): ReLU(inplace=True)\n",
       "      (downsample): Sequential(\n",
       "        (0): Conv2d(64, 256, kernel_size=(1, 1), stride=(1, 1), bias=False)\n",
       "        (1): BatchNorm2d(256, eps=1e-05, momentum=0.1, affine=True, track_running_stats=True)\n",
       "      )\n",
       "    )\n",
       "    (1): Bottleneck(\n",
       "      (conv1): Conv2d(256, 128, kernel_size=(1, 1), stride=(1, 1), bias=False)\n",
       "      (bn1): BatchNorm2d(128, eps=1e-05, momentum=0.1, affine=True, track_running_stats=True)\n",
       "      (conv2): Conv2d(128, 128, kernel_size=(3, 3), stride=(1, 1), padding=(1, 1), groups=32, bias=False)\n",
       "      (bn2): BatchNorm2d(128, eps=1e-05, momentum=0.1, affine=True, track_running_stats=True)\n",
       "      (conv3): Conv2d(128, 256, kernel_size=(1, 1), stride=(1, 1), bias=False)\n",
       "      (bn3): BatchNorm2d(256, eps=1e-05, momentum=0.1, affine=True, track_running_stats=True)\n",
       "      (relu): ReLU(inplace=True)\n",
       "    )\n",
       "    (2): Bottleneck(\n",
       "      (conv1): Conv2d(256, 128, kernel_size=(1, 1), stride=(1, 1), bias=False)\n",
       "      (bn1): BatchNorm2d(128, eps=1e-05, momentum=0.1, affine=True, track_running_stats=True)\n",
       "      (conv2): Conv2d(128, 128, kernel_size=(3, 3), stride=(1, 1), padding=(1, 1), groups=32, bias=False)\n",
       "      (bn2): BatchNorm2d(128, eps=1e-05, momentum=0.1, affine=True, track_running_stats=True)\n",
       "      (conv3): Conv2d(128, 256, kernel_size=(1, 1), stride=(1, 1), bias=False)\n",
       "      (bn3): BatchNorm2d(256, eps=1e-05, momentum=0.1, affine=True, track_running_stats=True)\n",
       "      (relu): ReLU(inplace=True)\n",
       "    )\n",
       "  )\n",
       "  (layer2): Sequential(\n",
       "    (0): Bottleneck(\n",
       "      (conv1): Conv2d(256, 256, kernel_size=(1, 1), stride=(1, 1), bias=False)\n",
       "      (bn1): BatchNorm2d(256, eps=1e-05, momentum=0.1, affine=True, track_running_stats=True)\n",
       "      (conv2): Conv2d(256, 256, kernel_size=(3, 3), stride=(2, 2), padding=(1, 1), groups=32, bias=False)\n",
       "      (bn2): BatchNorm2d(256, eps=1e-05, momentum=0.1, affine=True, track_running_stats=True)\n",
       "      (conv3): Conv2d(256, 512, kernel_size=(1, 1), stride=(1, 1), bias=False)\n",
       "      (bn3): BatchNorm2d(512, eps=1e-05, momentum=0.1, affine=True, track_running_stats=True)\n",
       "      (relu): ReLU(inplace=True)\n",
       "      (downsample): Sequential(\n",
       "        (0): Conv2d(256, 512, kernel_size=(1, 1), stride=(2, 2), bias=False)\n",
       "        (1): BatchNorm2d(512, eps=1e-05, momentum=0.1, affine=True, track_running_stats=True)\n",
       "      )\n",
       "    )\n",
       "    (1): Bottleneck(\n",
       "      (conv1): Conv2d(512, 256, kernel_size=(1, 1), stride=(1, 1), bias=False)\n",
       "      (bn1): BatchNorm2d(256, eps=1e-05, momentum=0.1, affine=True, track_running_stats=True)\n",
       "      (conv2): Conv2d(256, 256, kernel_size=(3, 3), stride=(1, 1), padding=(1, 1), groups=32, bias=False)\n",
       "      (bn2): BatchNorm2d(256, eps=1e-05, momentum=0.1, affine=True, track_running_stats=True)\n",
       "      (conv3): Conv2d(256, 512, kernel_size=(1, 1), stride=(1, 1), bias=False)\n",
       "      (bn3): BatchNorm2d(512, eps=1e-05, momentum=0.1, affine=True, track_running_stats=True)\n",
       "      (relu): ReLU(inplace=True)\n",
       "    )\n",
       "    (2): Bottleneck(\n",
       "      (conv1): Conv2d(512, 256, kernel_size=(1, 1), stride=(1, 1), bias=False)\n",
       "      (bn1): BatchNorm2d(256, eps=1e-05, momentum=0.1, affine=True, track_running_stats=True)\n",
       "      (conv2): Conv2d(256, 256, kernel_size=(3, 3), stride=(1, 1), padding=(1, 1), groups=32, bias=False)\n",
       "      (bn2): BatchNorm2d(256, eps=1e-05, momentum=0.1, affine=True, track_running_stats=True)\n",
       "      (conv3): Conv2d(256, 512, kernel_size=(1, 1), stride=(1, 1), bias=False)\n",
       "      (bn3): BatchNorm2d(512, eps=1e-05, momentum=0.1, affine=True, track_running_stats=True)\n",
       "      (relu): ReLU(inplace=True)\n",
       "    )\n",
       "    (3): Bottleneck(\n",
       "      (conv1): Conv2d(512, 256, kernel_size=(1, 1), stride=(1, 1), bias=False)\n",
       "      (bn1): BatchNorm2d(256, eps=1e-05, momentum=0.1, affine=True, track_running_stats=True)\n",
       "      (conv2): Conv2d(256, 256, kernel_size=(3, 3), stride=(1, 1), padding=(1, 1), groups=32, bias=False)\n",
       "      (bn2): BatchNorm2d(256, eps=1e-05, momentum=0.1, affine=True, track_running_stats=True)\n",
       "      (conv3): Conv2d(256, 512, kernel_size=(1, 1), stride=(1, 1), bias=False)\n",
       "      (bn3): BatchNorm2d(512, eps=1e-05, momentum=0.1, affine=True, track_running_stats=True)\n",
       "      (relu): ReLU(inplace=True)\n",
       "    )\n",
       "  )\n",
       "  (layer3): Sequential(\n",
       "    (0): Bottleneck(\n",
       "      (conv1): Conv2d(512, 512, kernel_size=(1, 1), stride=(1, 1), bias=False)\n",
       "      (bn1): BatchNorm2d(512, eps=1e-05, momentum=0.1, affine=True, track_running_stats=True)\n",
       "      (conv2): Conv2d(512, 512, kernel_size=(3, 3), stride=(2, 2), padding=(1, 1), groups=32, bias=False)\n",
       "      (bn2): BatchNorm2d(512, eps=1e-05, momentum=0.1, affine=True, track_running_stats=True)\n",
       "      (conv3): Conv2d(512, 1024, kernel_size=(1, 1), stride=(1, 1), bias=False)\n",
       "      (bn3): BatchNorm2d(1024, eps=1e-05, momentum=0.1, affine=True, track_running_stats=True)\n",
       "      (relu): ReLU(inplace=True)\n",
       "      (downsample): Sequential(\n",
       "        (0): Conv2d(512, 1024, kernel_size=(1, 1), stride=(2, 2), bias=False)\n",
       "        (1): BatchNorm2d(1024, eps=1e-05, momentum=0.1, affine=True, track_running_stats=True)\n",
       "      )\n",
       "    )\n",
       "    (1): Bottleneck(\n",
       "      (conv1): Conv2d(1024, 512, kernel_size=(1, 1), stride=(1, 1), bias=False)\n",
       "      (bn1): BatchNorm2d(512, eps=1e-05, momentum=0.1, affine=True, track_running_stats=True)\n",
       "      (conv2): Conv2d(512, 512, kernel_size=(3, 3), stride=(1, 1), padding=(1, 1), groups=32, bias=False)\n",
       "      (bn2): BatchNorm2d(512, eps=1e-05, momentum=0.1, affine=True, track_running_stats=True)\n",
       "      (conv3): Conv2d(512, 1024, kernel_size=(1, 1), stride=(1, 1), bias=False)\n",
       "      (bn3): BatchNorm2d(1024, eps=1e-05, momentum=0.1, affine=True, track_running_stats=True)\n",
       "      (relu): ReLU(inplace=True)\n",
       "    )\n",
       "    (2): Bottleneck(\n",
       "      (conv1): Conv2d(1024, 512, kernel_size=(1, 1), stride=(1, 1), bias=False)\n",
       "      (bn1): BatchNorm2d(512, eps=1e-05, momentum=0.1, affine=True, track_running_stats=True)\n",
       "      (conv2): Conv2d(512, 512, kernel_size=(3, 3), stride=(1, 1), padding=(1, 1), groups=32, bias=False)\n",
       "      (bn2): BatchNorm2d(512, eps=1e-05, momentum=0.1, affine=True, track_running_stats=True)\n",
       "      (conv3): Conv2d(512, 1024, kernel_size=(1, 1), stride=(1, 1), bias=False)\n",
       "      (bn3): BatchNorm2d(1024, eps=1e-05, momentum=0.1, affine=True, track_running_stats=True)\n",
       "      (relu): ReLU(inplace=True)\n",
       "    )\n",
       "    (3): Bottleneck(\n",
       "      (conv1): Conv2d(1024, 512, kernel_size=(1, 1), stride=(1, 1), bias=False)\n",
       "      (bn1): BatchNorm2d(512, eps=1e-05, momentum=0.1, affine=True, track_running_stats=True)\n",
       "      (conv2): Conv2d(512, 512, kernel_size=(3, 3), stride=(1, 1), padding=(1, 1), groups=32, bias=False)\n",
       "      (bn2): BatchNorm2d(512, eps=1e-05, momentum=0.1, affine=True, track_running_stats=True)\n",
       "      (conv3): Conv2d(512, 1024, kernel_size=(1, 1), stride=(1, 1), bias=False)\n",
       "      (bn3): BatchNorm2d(1024, eps=1e-05, momentum=0.1, affine=True, track_running_stats=True)\n",
       "      (relu): ReLU(inplace=True)\n",
       "    )\n",
       "    (4): Bottleneck(\n",
       "      (conv1): Conv2d(1024, 512, kernel_size=(1, 1), stride=(1, 1), bias=False)\n",
       "      (bn1): BatchNorm2d(512, eps=1e-05, momentum=0.1, affine=True, track_running_stats=True)\n",
       "      (conv2): Conv2d(512, 512, kernel_size=(3, 3), stride=(1, 1), padding=(1, 1), groups=32, bias=False)\n",
       "      (bn2): BatchNorm2d(512, eps=1e-05, momentum=0.1, affine=True, track_running_stats=True)\n",
       "      (conv3): Conv2d(512, 1024, kernel_size=(1, 1), stride=(1, 1), bias=False)\n",
       "      (bn3): BatchNorm2d(1024, eps=1e-05, momentum=0.1, affine=True, track_running_stats=True)\n",
       "      (relu): ReLU(inplace=True)\n",
       "    )\n",
       "    (5): Bottleneck(\n",
       "      (conv1): Conv2d(1024, 512, kernel_size=(1, 1), stride=(1, 1), bias=False)\n",
       "      (bn1): BatchNorm2d(512, eps=1e-05, momentum=0.1, affine=True, track_running_stats=True)\n",
       "      (conv2): Conv2d(512, 512, kernel_size=(3, 3), stride=(1, 1), padding=(1, 1), groups=32, bias=False)\n",
       "      (bn2): BatchNorm2d(512, eps=1e-05, momentum=0.1, affine=True, track_running_stats=True)\n",
       "      (conv3): Conv2d(512, 1024, kernel_size=(1, 1), stride=(1, 1), bias=False)\n",
       "      (bn3): BatchNorm2d(1024, eps=1e-05, momentum=0.1, affine=True, track_running_stats=True)\n",
       "      (relu): ReLU(inplace=True)\n",
       "    )\n",
       "  )\n",
       "  (layer4): Sequential(\n",
       "    (0): Bottleneck(\n",
       "      (conv1): Conv2d(1024, 1024, kernel_size=(1, 1), stride=(1, 1), bias=False)\n",
       "      (bn1): BatchNorm2d(1024, eps=1e-05, momentum=0.1, affine=True, track_running_stats=True)\n",
       "      (conv2): Conv2d(1024, 1024, kernel_size=(3, 3), stride=(2, 2), padding=(1, 1), groups=32, bias=False)\n",
       "      (bn2): BatchNorm2d(1024, eps=1e-05, momentum=0.1, affine=True, track_running_stats=True)\n",
       "      (conv3): Conv2d(1024, 2048, kernel_size=(1, 1), stride=(1, 1), bias=False)\n",
       "      (bn3): BatchNorm2d(2048, eps=1e-05, momentum=0.1, affine=True, track_running_stats=True)\n",
       "      (relu): ReLU(inplace=True)\n",
       "      (downsample): Sequential(\n",
       "        (0): Conv2d(1024, 2048, kernel_size=(1, 1), stride=(2, 2), bias=False)\n",
       "        (1): BatchNorm2d(2048, eps=1e-05, momentum=0.1, affine=True, track_running_stats=True)\n",
       "      )\n",
       "    )\n",
       "    (1): Bottleneck(\n",
       "      (conv1): Conv2d(2048, 1024, kernel_size=(1, 1), stride=(1, 1), bias=False)\n",
       "      (bn1): BatchNorm2d(1024, eps=1e-05, momentum=0.1, affine=True, track_running_stats=True)\n",
       "      (conv2): Conv2d(1024, 1024, kernel_size=(3, 3), stride=(1, 1), padding=(1, 1), groups=32, bias=False)\n",
       "      (bn2): BatchNorm2d(1024, eps=1e-05, momentum=0.1, affine=True, track_running_stats=True)\n",
       "      (conv3): Conv2d(1024, 2048, kernel_size=(1, 1), stride=(1, 1), bias=False)\n",
       "      (bn3): BatchNorm2d(2048, eps=1e-05, momentum=0.1, affine=True, track_running_stats=True)\n",
       "      (relu): ReLU(inplace=True)\n",
       "    )\n",
       "    (2): Bottleneck(\n",
       "      (conv1): Conv2d(2048, 1024, kernel_size=(1, 1), stride=(1, 1), bias=False)\n",
       "      (bn1): BatchNorm2d(1024, eps=1e-05, momentum=0.1, affine=True, track_running_stats=True)\n",
       "      (conv2): Conv2d(1024, 1024, kernel_size=(3, 3), stride=(1, 1), padding=(1, 1), groups=32, bias=False)\n",
       "      (bn2): BatchNorm2d(1024, eps=1e-05, momentum=0.1, affine=True, track_running_stats=True)\n",
       "      (conv3): Conv2d(1024, 2048, kernel_size=(1, 1), stride=(1, 1), bias=False)\n",
       "      (bn3): BatchNorm2d(2048, eps=1e-05, momentum=0.1, affine=True, track_running_stats=True)\n",
       "      (relu): ReLU(inplace=True)\n",
       "    )\n",
       "  )\n",
       "  (avgpool): AdaptiveAvgPool2d(output_size=(1, 1))\n",
       "  (fc): Sequential(\n",
       "    (0): Linear(in_features=2048, out_features=512, bias=True)\n",
       "    (1): ReLU(inplace=True)\n",
       "    (2): BatchNorm1d(512, eps=1e-05, momentum=0.1, affine=True, track_running_stats=True)\n",
       "    (3): Linear(in_features=512, out_features=256, bias=True)\n",
       "    (4): ReLU(inplace=True)\n",
       "    (5): BatchNorm1d(256, eps=1e-05, momentum=0.1, affine=True, track_running_stats=True)\n",
       "    (6): Linear(in_features=256, out_features=256, bias=True)\n",
       "  )\n",
       ")"
      ]
     },
     "execution_count": 18,
     "metadata": {},
     "output_type": "execute_result"
    }
   ],
   "source": [
    "model"
   ]
  },
  {
   "cell_type": "code",
   "execution_count": 19,
   "metadata": {},
   "outputs": [],
   "source": [
    "# # for param in model.parameters():\n",
    "# #     param.requires_grad = False\n",
    "\n",
    "# # model.classifier = nn.Sequential(nn.Linear(in_features=vgg16, out_features=1000, bias=True),\n",
    "# #                                  nn.ReLU(inplace=True),\n",
    "                               \n",
    "# #                                  nn.BatchNorm1d(1000, eps=1e-05, momentum=0.1, affine=True),\n",
    "# #                                  nn.Linear(in_features=1000, out_features=256, bias=True),\n",
    "# #                                  nn.ReLU(inplace=True),\n",
    "                                 \n",
    "# #                                  nn.BatchNorm1d(256, eps=1e-05, momentum=0.1, affine=True),\n",
    "# #                                  nn.Linear(in_features=256, out_features=128, bias=True),\n",
    "# #                                  ) \n",
    "\n",
    "# for param in model.parameters():\n",
    "#     param.requires_grad = True\n",
    "\n",
    "# model.classifier = nn.Sequential(nn.Linear(in_features=alexnet, out_features=512, bias=True),\n",
    "#                                  nn.ReLU(inplace=True),\n",
    "#                                  nn.BatchNorm1d(512, eps=1e-05, momentum=0.1, affine=True),\n",
    "#                                  nn.Linear(in_features=512, out_features=256, bias=True),\n",
    "#                                  nn.ReLU(inplace=True),\n",
    "#                                  nn.BatchNorm1d(256, eps=1e-05, momentum=0.1, affine=True),\n",
    "#                                  nn.Linear(in_features=256, out_features=256, bias=True),\n",
    "#                             )\n",
    "# model\n"
   ]
  },
  {
   "cell_type": "markdown",
   "metadata": {},
   "source": [
    "## Loss Function"
   ]
  },
  {
   "cell_type": "code",
   "execution_count": 20,
   "metadata": {},
   "outputs": [],
   "source": [
    "class AngleLayer(nn.Module):\n",
    "    \"\"\"Convert the fully connected layer of output to \"\"\"\n",
    "    def __init__(self, in_planes, out_planes, m=2):\n",
    "        super(AngleLayer, self).__init__()\n",
    "        self.in_planes = in_planes\n",
    "        self.out_planes = out_planes\n",
    "        self.weight = Parameter(torch.Tensor(in_planes, out_planes)).cuda()\n",
    "        self.weight.data.uniform_(-1, 1).renorm_(2, 1, 1e-5).mul_(1e5)\n",
    "        self.m = m\n",
    "        self.cos_val = [\n",
    "            lambda x: x**0,\n",
    "            lambda x: x**1,\n",
    "            lambda x: 2*x**2-1,\n",
    "            lambda x: 4*x**3-3*x,\n",
    "            lambda x: 8*x**4-8*x**2+1,\n",
    "            lambda x: 16*x**5-20*x**3+5*x,\n",
    "        ]\n",
    "\n",
    "    def forward(self, input):\n",
    "        w = self.weight.renorm(2, 1, 1e-5).mul(1e5)\n",
    "        x_modulus = input.pow(2).sum(1).pow(0.5)\n",
    "        w_modulus = w.pow(2).sum(0).pow(0.5)\n",
    "\n",
    "        # W * x = ||W|| * ||x|| * cos(θ)\n",
    "        inner_wx = input.mm(w)\n",
    "        cos_theta = inner_wx / x_modulus.view(-1, 1) / w_modulus.view(1, -1)\n",
    "        cos_theta = cos_theta.clamp(-1, 1)\n",
    "\n",
    "        cos_m_theta = self.cos_val[self.m](cos_theta)\n",
    "        theta = Variable(cos_theta.data.acos())\n",
    "        # k * pi / m <= theta <= (k + 1) * pi / m\n",
    "        k = (self.m * theta / 3.14159265).floor()\n",
    "        minus_one = k * 0.0 - 1\n",
    "        # Phi(yi, i) = (-1)**k * cos(myi,i) - 2 * k\n",
    "        phi_theta = (minus_one ** k) * cos_m_theta - 2 * k\n",
    "\n",
    "        cos_x = cos_theta * x_modulus.view(-1, 1)\n",
    "        phi_x = phi_theta * x_modulus.view(-1, 1)\n",
    "\n",
    "        return cos_x, phi_x"
   ]
  },
  {
   "cell_type": "code",
   "execution_count": 21,
   "metadata": {},
   "outputs": [],
   "source": [
    "class AngularSoftmaxWithLoss(nn.Module):\n",
    "    \"\"\"\"\"\"\n",
    "    def __init__(self, gamma=0):\n",
    "        super(AngularSoftmaxWithLoss, self).__init__()\n",
    "        self.gamma = gamma\n",
    "        self.iter = 0\n",
    "        self.lambda_min = 5.0\n",
    "        self.lambda_max = 1500.0\n",
    "        self.lamb = 1500.0\n",
    "\n",
    "    def forward(self, input, target):\n",
    "        self.iter += 1\n",
    "        target = target.view(-1, 1)\n",
    "\n",
    "        index = input[0].data * 0.0\n",
    "        index.scatter_(0, target.data.view(-1), 0)\n",
    "        index = Variable(index.byte())\n",
    "\n",
    "        # Tricks\n",
    "        # output(θyi) = (lambda * cos(θyi) + (-1) ** k * cos(m * θyi) - 2 * k)) / (1 + lambda)\n",
    "        #             = cos(θyi) - cos(θyi) / (1 + lambda) + Phi(θyi) / (1 + lambda)\n",
    "        self.lamb = max(self.lambda_min, self.lambda_max / (1 + 0.1 * self.iter))\n",
    "        output = input[0] * 1.0\n",
    "        output[index] -= input[0][index] * 1.0 / (1 + self.lamb)\n",
    "        output[index] += input[1][index] * 1.0 / (1 + self.lamb)\n",
    "\n",
    "        # softmax loss\n",
    "        logit = F.log_softmax(output)\n",
    "        logit = logit.gather(0, target.data.view(-1))\n",
    "        pt = logit.data.exp()\n",
    "\n",
    "        loss = -1 * (1 - pt) ** self.gamma * logit\n",
    "        loss = loss.mean()\n",
    "\n",
    "        return loss"
   ]
  },
  {
   "cell_type": "code",
   "execution_count": 22,
   "metadata": {},
   "outputs": [],
   "source": [
    "def save_checkpoint(state, filename='my_checkpoint.pth.tar'):\n",
    "    print('=> Saving checkpoint')\n",
    "    torch.save(state, filename)\n",
    "    \n",
    "def load_checkpoint(checkpoint, model, optimizer):\n",
    "    print('=> Loading checkpoint')\n",
    "    model.load_state_dict(checkpoint['state_dict'])\n",
    "    optimizer.load_state_dict(checkpoint['optimizer'])"
   ]
  },
  {
   "cell_type": "code",
   "execution_count": 23,
   "metadata": {},
   "outputs": [],
   "source": [
    "# criterion = AngularSoftmaxWithLoss()\n",
    "criterion = nn.CrossEntropyLoss()\n",
    "metric_fc = AngleLayer(256,35)\n",
    "\n",
    "optimizer = torch.optim.Adadelta([{'params': model.parameters()}, {'params': metric_fc.parameters()}],\n",
    "                                    lr=0.01, weight_decay=0.005)"
   ]
  },
  {
   "cell_type": "markdown",
   "metadata": {},
   "source": [
    "## Train Loop"
   ]
  },
  {
   "cell_type": "code",
   "execution_count": 24,
   "metadata": {},
   "outputs": [],
   "source": [
    "\n",
    "def train(num_epochs):\n",
    "    \n",
    "    \n",
    "    print('Starting Training..')\n",
    "    for e in range(0,num_epochs):\n",
    "        \n",
    "            \n",
    "        print('='*20)\n",
    "        print(f'Starting epoch {e + 1}/{num_epochs}')\n",
    "        print('='*20)\n",
    "        \n",
    "        train_loss = 0\n",
    "        \n",
    "        model.train().to(device)\n",
    "        \n",
    "        for train_step, (images, labels) in enumerate(train_dl):\n",
    "            optimizer.zero_grad()\n",
    "            images = images.to(device)\n",
    "            labels = labels.to(device).long()\n",
    "            \n",
    "            feature = model(images)\n",
    "            output, _ = metric_fc(feature)\n",
    "            \n",
    "            loss = criterion(output, labels)\n",
    "            \n",
    "            loss.backward(retain_graph = True)\n",
    "            optimizer.step()\n",
    "            \n",
    "            train_loss += loss.item()\n",
    "            \n",
    "            if (train_step) % 100 == 0:\n",
    "                print (\"Evaluating at step\", train_step)\n",
    "                print (f'Epoch [{e+1}/{num_epochs}], Loss: {loss.item():.4f}')\n",
    "            \n",
    "            \n",
    "\n",
    "        train_loss /= (train_step + 1)\n",
    "        print(f'Training Loss: {train_loss:.4f}')"
   ]
  },
  {
   "cell_type": "code",
   "execution_count": 25,
   "metadata": {},
   "outputs": [
    {
     "name": "stdout",
     "output_type": "stream",
     "text": [
      "Starting Training..\n",
      "====================\n",
      "Starting epoch 1/30\n",
      "====================\n",
      "Evaluating at step 0\n",
      "Epoch [1/30], Loss: 3.6626\n",
      "Evaluating at step 100\n",
      "Epoch [1/30], Loss: 2.4138\n",
      "Training Loss: 2.5263\n",
      "====================\n",
      "Starting epoch 2/30\n",
      "====================\n",
      "Evaluating at step 0\n",
      "Epoch [2/30], Loss: 1.1758\n",
      "Evaluating at step 100\n",
      "Epoch [2/30], Loss: 0.6155\n",
      "Training Loss: 0.6635\n",
      "====================\n",
      "Starting epoch 3/30\n",
      "====================\n",
      "Evaluating at step 0\n",
      "Epoch [3/30], Loss: 0.1939\n",
      "Evaluating at step 100\n",
      "Epoch [3/30], Loss: 0.1050\n",
      "Training Loss: 0.1337\n",
      "====================\n",
      "Starting epoch 4/30\n",
      "====================\n",
      "Evaluating at step 0\n",
      "Epoch [4/30], Loss: 0.0739\n",
      "Evaluating at step 100\n",
      "Epoch [4/30], Loss: 0.0565\n",
      "Training Loss: 0.0529\n",
      "====================\n",
      "Starting epoch 5/30\n",
      "====================\n",
      "Evaluating at step 0\n",
      "Epoch [5/30], Loss: 0.0375\n",
      "Evaluating at step 100\n",
      "Epoch [5/30], Loss: 0.0345\n",
      "Training Loss: 0.0329\n",
      "====================\n",
      "Starting epoch 6/30\n",
      "====================\n",
      "Evaluating at step 0\n",
      "Epoch [6/30], Loss: 0.0230\n",
      "Evaluating at step 100\n",
      "Epoch [6/30], Loss: 0.0227\n",
      "Training Loss: 0.0253\n",
      "====================\n",
      "Starting epoch 7/30\n",
      "====================\n",
      "Evaluating at step 0\n",
      "Epoch [7/30], Loss: 0.0227\n",
      "Evaluating at step 100\n",
      "Epoch [7/30], Loss: 0.0200\n",
      "Training Loss: 0.0207\n",
      "====================\n",
      "Starting epoch 8/30\n",
      "====================\n",
      "Evaluating at step 0\n",
      "Epoch [8/30], Loss: 0.0180\n",
      "Evaluating at step 100\n",
      "Epoch [8/30], Loss: 0.0158\n",
      "Training Loss: 0.0185\n",
      "====================\n",
      "Starting epoch 9/30\n",
      "====================\n",
      "Evaluating at step 0\n",
      "Epoch [9/30], Loss: 0.0172\n",
      "Evaluating at step 100\n",
      "Epoch [9/30], Loss: 0.0151\n",
      "Training Loss: 0.0167\n",
      "====================\n",
      "Starting epoch 10/30\n",
      "====================\n",
      "Evaluating at step 0\n",
      "Epoch [10/30], Loss: 0.0116\n",
      "Evaluating at step 100\n",
      "Epoch [10/30], Loss: 0.0170\n",
      "Training Loss: 0.0155\n",
      "====================\n",
      "Starting epoch 11/30\n",
      "====================\n",
      "Evaluating at step 0\n",
      "Epoch [11/30], Loss: 0.0127\n",
      "Evaluating at step 100\n",
      "Epoch [11/30], Loss: 0.0151\n",
      "Training Loss: 0.0145\n",
      "====================\n",
      "Starting epoch 12/30\n",
      "====================\n",
      "Evaluating at step 0\n",
      "Epoch [12/30], Loss: 0.0120\n",
      "Evaluating at step 100\n",
      "Epoch [12/30], Loss: 0.0147\n",
      "Training Loss: 0.0138\n",
      "====================\n",
      "Starting epoch 13/30\n",
      "====================\n",
      "Evaluating at step 0\n",
      "Epoch [13/30], Loss: 0.0172\n",
      "Evaluating at step 100\n",
      "Epoch [13/30], Loss: 0.0127\n",
      "Training Loss: 0.0138\n",
      "====================\n",
      "Starting epoch 14/30\n",
      "====================\n",
      "Evaluating at step 0\n",
      "Epoch [14/30], Loss: 0.0128\n",
      "Evaluating at step 100\n",
      "Epoch [14/30], Loss: 0.0156\n",
      "Training Loss: 0.0131\n",
      "====================\n",
      "Starting epoch 15/30\n",
      "====================\n",
      "Evaluating at step 0\n",
      "Epoch [15/30], Loss: 0.0125\n",
      "Evaluating at step 100\n",
      "Epoch [15/30], Loss: 0.0114\n",
      "Training Loss: 0.0130\n",
      "====================\n",
      "Starting epoch 16/30\n",
      "====================\n",
      "Evaluating at step 0\n",
      "Epoch [16/30], Loss: 0.0151\n",
      "Evaluating at step 100\n",
      "Epoch [16/30], Loss: 0.0113\n",
      "Training Loss: 0.0130\n",
      "====================\n",
      "Starting epoch 17/30\n",
      "====================\n",
      "Evaluating at step 0\n",
      "Epoch [17/30], Loss: 0.0114\n",
      "Evaluating at step 100\n",
      "Epoch [17/30], Loss: 0.0125\n",
      "Training Loss: 0.0127\n",
      "====================\n",
      "Starting epoch 18/30\n",
      "====================\n",
      "Evaluating at step 0\n",
      "Epoch [18/30], Loss: 0.0114\n",
      "Evaluating at step 100\n",
      "Epoch [18/30], Loss: 0.0114\n",
      "Training Loss: 0.0128\n",
      "====================\n",
      "Starting epoch 19/30\n",
      "====================\n",
      "Evaluating at step 0\n",
      "Epoch [19/30], Loss: 0.0134\n",
      "Evaluating at step 100\n",
      "Epoch [19/30], Loss: 0.0126\n",
      "Training Loss: 0.0127\n",
      "====================\n",
      "Starting epoch 20/30\n",
      "====================\n",
      "Evaluating at step 0\n",
      "Epoch [20/30], Loss: 0.0119\n",
      "Evaluating at step 100\n",
      "Epoch [20/30], Loss: 0.0111\n",
      "Training Loss: 0.0127\n",
      "====================\n",
      "Starting epoch 21/30\n",
      "====================\n",
      "Evaluating at step 0\n",
      "Epoch [21/30], Loss: 0.0157\n",
      "Evaluating at step 100\n",
      "Epoch [21/30], Loss: 0.0117\n",
      "Training Loss: 0.0129\n",
      "====================\n",
      "Starting epoch 22/30\n",
      "====================\n",
      "Evaluating at step 0\n",
      "Epoch [22/30], Loss: 0.0129\n",
      "Evaluating at step 100\n",
      "Epoch [22/30], Loss: 0.0132\n",
      "Training Loss: 0.0126\n",
      "====================\n",
      "Starting epoch 23/30\n",
      "====================\n",
      "Evaluating at step 0\n",
      "Epoch [23/30], Loss: 0.0127\n",
      "Evaluating at step 100\n",
      "Epoch [23/30], Loss: 0.0134\n",
      "Training Loss: 0.0130\n",
      "====================\n",
      "Starting epoch 24/30\n",
      "====================\n",
      "Evaluating at step 0\n",
      "Epoch [24/30], Loss: 0.0140\n",
      "Evaluating at step 100\n",
      "Epoch [24/30], Loss: 0.0128\n",
      "Training Loss: 0.0132\n",
      "====================\n",
      "Starting epoch 25/30\n",
      "====================\n",
      "Evaluating at step 0\n",
      "Epoch [25/30], Loss: 0.0125\n",
      "Evaluating at step 100\n",
      "Epoch [25/30], Loss: 0.0122\n",
      "Training Loss: 0.0133\n",
      "====================\n",
      "Starting epoch 26/30\n",
      "====================\n",
      "Evaluating at step 0\n",
      "Epoch [26/30], Loss: 0.0126\n",
      "Evaluating at step 100\n",
      "Epoch [26/30], Loss: 0.0127\n",
      "Training Loss: 0.0134\n",
      "====================\n",
      "Starting epoch 27/30\n",
      "====================\n",
      "Evaluating at step 0\n",
      "Epoch [27/30], Loss: 0.0125\n",
      "Evaluating at step 100\n",
      "Epoch [27/30], Loss: 0.0126\n",
      "Training Loss: 0.0135\n",
      "====================\n",
      "Starting epoch 28/30\n",
      "====================\n",
      "Evaluating at step 0\n",
      "Epoch [28/30], Loss: 0.0142\n",
      "Evaluating at step 100\n",
      "Epoch [28/30], Loss: 0.0142\n",
      "Training Loss: 0.0138\n",
      "====================\n",
      "Starting epoch 29/30\n",
      "====================\n",
      "Evaluating at step 0\n",
      "Epoch [29/30], Loss: 0.0126\n",
      "Evaluating at step 100\n",
      "Epoch [29/30], Loss: 0.0139\n",
      "Training Loss: 0.0138\n",
      "====================\n",
      "Starting epoch 30/30\n",
      "====================\n",
      "Evaluating at step 0\n",
      "Epoch [30/30], Loss: 0.0141\n",
      "Evaluating at step 100\n",
      "Epoch [30/30], Loss: 0.0179\n",
      "Training Loss: 0.0141\n"
     ]
    }
   ],
   "source": [
    "train(num_epochs)"
   ]
  },
  {
   "cell_type": "markdown",
   "metadata": {},
   "source": [
    "## Test Function "
   ]
  },
  {
   "cell_type": "code",
   "execution_count": 26,
   "metadata": {},
   "outputs": [],
   "source": [
    "from sklearn.metrics import multilabel_confusion_matrix\n",
    "from sklearn.metrics import plot_confusion_matrix\n",
    "import matplotlib.pyplot as plt\n",
    "\n",
    "def test(model, test_loader, test_data):\n",
    "    \n",
    "    model.eval()\n",
    "    all_labels = torch.tensor([],dtype=torch.int64).to(device)\n",
    "    all_preds = torch.tensor([],dtype=torch.int64).to(device)\n",
    "    acc = 0\n",
    "    \n",
    "    with torch.no_grad():\n",
    "        for data, labels in test_loader:\n",
    "            data, labels = data.to(device), labels.to(device)\n",
    "            output = model(data)\n",
    "            #print(output.shape)\n",
    "            \n",
    "            output1, _ = metric_fc(output)\n",
    "            m = nn.LogSoftmax()\n",
    "            \n",
    "            outputs = m(output1)            \n",
    "            _, pred = torch.max(outputs.data, 1)\n",
    "                       \n",
    "            acc += sum((pred == labels)).cpu().numpy()\n",
    "               \n",
    "            preds = torch.argmax(outputs,1)\n",
    "            output1 = output1.cpu()\n",
    "            all_labels = torch.cat((all_labels, labels),dim=0)\n",
    "            all_preds = torch.cat((all_preds, preds),dim=0)\n",
    "            \n",
    "#             acc1 = [0 for c in list_of_classes]\n",
    "#             for c in list_of_classes:\n",
    "#                 #print((sum(labels = c), 1))\n",
    "#                 acc1[(list_of_classes[c])] = (((pred == labels) * (labels == c)).float()) / (max(labels == c).sum(), 1)\n",
    "    \n",
    "            \n",
    "            \n",
    "    acc = (acc/len(test_data))*100\n",
    "    print(f\"acc = {acc}\")\n",
    "    return all_labels,all_preds\n",
    "   \n",
    "        "
   ]
  },
  {
   "cell_type": "code",
   "execution_count": 27,
   "metadata": {},
   "outputs": [
    {
     "name": "stderr",
     "output_type": "stream",
     "text": [
      "<ipython-input-26-8e06338649e3>:21: UserWarning: Implicit dimension choice for log_softmax has been deprecated. Change the call to include dim=X as an argument.\n",
      "  outputs = m(output1)\n"
     ]
    },
    {
     "name": "stdout",
     "output_type": "stream",
     "text": [
      "acc = 100.0\n"
     ]
    },
    {
     "data": {
      "text/plain": [
       "(tensor([15, 31,  8,  ..., 33, 31, 12], device='cuda:0'),\n",
       " tensor([15, 31,  8,  ..., 33, 31, 12], device='cuda:0'))"
      ]
     },
     "execution_count": 27,
     "metadata": {},
     "output_type": "execute_result"
    }
   ],
   "source": [
    "test(model, train_dl, train_data)"
   ]
  },
  {
   "cell_type": "code",
   "execution_count": 28,
   "metadata": {},
   "outputs": [
    {
     "name": "stderr",
     "output_type": "stream",
     "text": [
      "<ipython-input-26-8e06338649e3>:21: UserWarning: Implicit dimension choice for log_softmax has been deprecated. Change the call to include dim=X as an argument.\n",
      "  outputs = m(output1)\n"
     ]
    },
    {
     "name": "stdout",
     "output_type": "stream",
     "text": [
      "acc = 100.0\n"
     ]
    },
    {
     "data": {
      "text/plain": [
       "(tensor([12, 31, 15,  ..., 30, 19, 25], device='cuda:0'),\n",
       " tensor([12, 31, 15,  ..., 30, 19, 25], device='cuda:0'))"
      ]
     },
     "execution_count": 28,
     "metadata": {},
     "output_type": "execute_result"
    }
   ],
   "source": [
    "test(model, val_dl, val_data)"
   ]
  },
  {
   "cell_type": "code",
   "execution_count": 29,
   "metadata": {},
   "outputs": [
    {
     "name": "stderr",
     "output_type": "stream",
     "text": [
      "<ipython-input-26-8e06338649e3>:21: UserWarning: Implicit dimension choice for log_softmax has been deprecated. Change the call to include dim=X as an argument.\n",
      "  outputs = m(output1)\n"
     ]
    },
    {
     "name": "stdout",
     "output_type": "stream",
     "text": [
      "acc = 100.0\n"
     ]
    },
    {
     "data": {
      "text/plain": [
       "(tensor([18,  7, 19,  ..., 26, 25, 10], device='cuda:0'),\n",
       " tensor([18,  7, 19,  ..., 26, 25, 10], device='cuda:0'))"
      ]
     },
     "execution_count": 29,
     "metadata": {},
     "output_type": "execute_result"
    }
   ],
   "source": [
    "test(model, test_dl, test_data)"
   ]
  },
  {
   "cell_type": "code",
   "execution_count": 30,
   "metadata": {},
   "outputs": [
    {
     "name": "stderr",
     "output_type": "stream",
     "text": [
      "<ipython-input-26-8e06338649e3>:21: UserWarning: Implicit dimension choice for log_softmax has been deprecated. Change the call to include dim=X as an argument.\n",
      "  outputs = m(output1)\n"
     ]
    },
    {
     "name": "stdout",
     "output_type": "stream",
     "text": [
      "acc = 100.0\n",
      "tensor([ 2, 30, 22,  ..., 11, 14, 28], device='cuda:0')\n",
      "tensor([ 2, 30, 22,  ..., 11, 14, 28], device='cuda:0')\n"
     ]
    },
    {
     "data": {
      "text/plain": [
       "torch.Size([2372])"
      ]
     },
     "execution_count": 30,
     "metadata": {},
     "output_type": "execute_result"
    }
   ],
   "source": [
    "train_labels, train_preds = test(model, test_dl, test_data)\n",
    "print(train_preds)\n",
    "print(train_labels)\n",
    "train_labels.shape"
   ]
  },
  {
   "cell_type": "code",
   "execution_count": 31,
   "metadata": {},
   "outputs": [],
   "source": [
    "# print(train_preds.requires_grad)\n",
    "train_labels = train_labels.cpu()\n",
    "train_preds = train_preds.cpu()\n"
   ]
  },
  {
   "cell_type": "code",
   "execution_count": 32,
   "metadata": {},
   "outputs": [
    {
     "data": {
      "text/plain": [
       "torch.Size([2372, 2])"
      ]
     },
     "execution_count": 32,
     "metadata": {},
     "output_type": "execute_result"
    }
   ],
   "source": [
    " stacked = torch.stack(\n",
    "    (\n",
    "        train_labels,train_preds\n",
    "    )\n",
    "    ,dim=1\n",
    ")\n",
    "stacked.shape"
   ]
  },
  {
   "cell_type": "code",
   "execution_count": 33,
   "metadata": {},
   "outputs": [
    {
     "data": {
      "text/plain": [
       "tensor([[ 2,  2],\n",
       "        [30, 30],\n",
       "        [22, 22],\n",
       "        ...,\n",
       "        [11, 11],\n",
       "        [14, 14],\n",
       "        [28, 28]])"
      ]
     },
     "execution_count": 33,
     "metadata": {},
     "output_type": "execute_result"
    }
   ],
   "source": [
    "stacked"
   ]
  },
  {
   "cell_type": "code",
   "execution_count": 34,
   "metadata": {},
   "outputs": [],
   "source": [
    "# stacked[0].tolist()"
   ]
  },
  {
   "cell_type": "code",
   "execution_count": 35,
   "metadata": {},
   "outputs": [
    {
     "data": {
      "text/plain": [
       "torch.Size([35, 35])"
      ]
     },
     "execution_count": 35,
     "metadata": {},
     "output_type": "execute_result"
    }
   ],
   "source": [
    "cmt = torch.zeros(35,35,dtype = torch.int64)\n",
    "cmt.shape"
   ]
  },
  {
   "cell_type": "code",
   "execution_count": 36,
   "metadata": {},
   "outputs": [
    {
     "data": {
      "text/plain": [
       "tensor([[69,  0,  0,  ...,  0,  0,  0],\n",
       "        [ 0, 68,  0,  ...,  0,  0,  0],\n",
       "        [ 0,  0, 68,  ...,  0,  0,  0],\n",
       "        ...,\n",
       "        [ 0,  0,  0,  ..., 68,  0,  0],\n",
       "        [ 0,  0,  0,  ...,  0, 67,  0],\n",
       "        [ 0,  0,  0,  ...,  0,  0, 68]])"
      ]
     },
     "execution_count": 36,
     "metadata": {},
     "output_type": "execute_result"
    }
   ],
   "source": [
    "for p in stacked:\n",
    "    tl, pl = p.tolist()\n",
    "    cmt[tl, pl] = cmt[tl, pl] + 1\n",
    "cmt"
   ]
  },
  {
   "cell_type": "code",
   "execution_count": 37,
   "metadata": {},
   "outputs": [
    {
     "name": "stdout",
     "output_type": "stream",
     "text": [
      "<class 'numpy.ndarray'>\n"
     ]
    },
    {
     "data": {
      "text/plain": [
       "array([[69,  0,  0, ...,  0,  0,  0],\n",
       "       [ 0, 68,  0, ...,  0,  0,  0],\n",
       "       [ 0,  0, 68, ...,  0,  0,  0],\n",
       "       ...,\n",
       "       [ 0,  0,  0, ..., 68,  0,  0],\n",
       "       [ 0,  0,  0, ...,  0, 67,  0],\n",
       "       [ 0,  0,  0, ...,  0,  0, 68]], dtype=int64)"
      ]
     },
     "execution_count": 37,
     "metadata": {},
     "output_type": "execute_result"
    }
   ],
   "source": [
    "cm = confusion_matrix(train_labels, train_preds)\n",
    "print(type(cm))\n",
    "cm"
   ]
  },
  {
   "cell_type": "markdown",
   "metadata": {},
   "source": [
    "## Confusion Matrix"
   ]
  },
  {
   "cell_type": "code",
   "execution_count": 38,
   "metadata": {},
   "outputs": [],
   "source": [
    "import numpy as np\n",
    "import matplotlib.pyplot as plt\n",
    "import itertools\n",
    "\n",
    "def plot_confusion_matrix(cm, classes, normalize=False, title='Confusion matrix', cmap=plt.cm.Blues):\n",
    "    if normalize:\n",
    "        cm = cm.astype('float') / cm.sum(axis=1)[:, np.newaxis]\n",
    "        print(\"Normalized confusion matrix\")\n",
    "    else:\n",
    "        print('Confusion matrix, without normalization')\n",
    "\n",
    "    print(cm)\n",
    "    plt.imshow(cm, interpolation='nearest', cmap=cmap)\n",
    "    plt.colorbar()\n",
    "    tick_marks = np.arange(len(classes))\n",
    "    plt.xticks(tick_marks, classes, rotation=45)\n",
    "    plt.yticks(tick_marks, classes)\n",
    "\n",
    "    fmt = '.2f' if normalize else 'd'\n",
    "    thresh = cm.max() / 2.\n",
    "    for i, j in itertools.product(range(cm.shape[0]), range(cm.shape[1])):\n",
    "        plt.text(i, j, format(cm[i, j], fmt), horizontalalignment=\"center\", color=\"white\" if cm[i, j] > thresh else \"black\")\n",
    "\n",
    "    plt.tight_layout()\n",
    "    plt.ylabel('True label')\n",
    "    plt.xlabel('Predicted label')"
   ]
  },
  {
   "cell_type": "code",
   "execution_count": 39,
   "metadata": {},
   "outputs": [
    {
     "name": "stdout",
     "output_type": "stream",
     "text": [
      "Confusion matrix, without normalization\n",
      "tensor([[69,  0,  0,  ...,  0,  0,  0],\n",
      "        [ 0, 68,  0,  ...,  0,  0,  0],\n",
      "        [ 0,  0, 68,  ...,  0,  0,  0],\n",
      "        ...,\n",
      "        [ 0,  0,  0,  ..., 68,  0,  0],\n",
      "        [ 0,  0,  0,  ...,  0, 67,  0],\n",
      "        [ 0,  0,  0,  ...,  0,  0, 68]])\n"
     ]
    },
    {
     "data": {
      "image/png": "[encoded data removed]",
      "text/plain": [
       "<Figure size 1440x720 with 2 Axes>"
      ]
     },
     "metadata": {
      "needs_background": "light"
     },
     "output_type": "display_data"
    }
   ],
   "source": [
    "labels_names=[\"1\", \"2\",\"3\",\"4\",\"5\",\n",
    "            \"6\", \"7\",\"8\",\"9\",\"10\",\n",
    "            \"11\", \"12\",\"13\",\"14\",\"15\",\n",
    "            \"16\", \"17\",\"18\",\"19\",\"20\",\n",
    "            \"21\", \"22\",\"23\",\"24\",\"25\",\n",
    "            \"26\", \"27\",\"28\",\"29\",\"30\",\n",
    "            \"31\", \"32\",\"33\",\"34\",\"35\"]\n",
    "\n",
    "plt.figure(figsize=(20,10))\n",
    "fig = plot_confusion_matrix(cmt, labels_names)\n",
    "\n",
    "\n",
    "plt.savefig('output2_test_BDSL.png', dpi=300)"
   ]
  },
  {
   "cell_type": "code",
   "execution_count": 40,
   "metadata": {},
   "outputs": [
    {
     "data": {
      "text/plain": [
       "0"
      ]
     },
     "execution_count": 40,
     "metadata": {},
     "output_type": "execute_result"
    }
   ],
   "source": [
    "cm[0][1]"
   ]
  },
  {
   "cell_type": "code",
   "execution_count": 41,
   "metadata": {},
   "outputs": [
    {
     "name": "stdout",
     "output_type": "stream",
     "text": [
      "69\n"
     ]
    }
   ],
   "source": [
    "total =0\n",
    "for i in range(35):\n",
    "\n",
    "    total = total+cm[0][i]\n",
    "        \n",
    "print(total)"
   ]
  },
  {
   "cell_type": "code",
   "execution_count": 42,
   "metadata": {},
   "outputs": [
    {
     "data": {
      "text/plain": [
       "100.0"
      ]
     },
     "execution_count": 42,
     "metadata": {},
     "output_type": "execute_result"
    }
   ],
   "source": [
    "100.0* cm[0][0] / total"
   ]
  },
  {
   "cell_type": "code",
   "execution_count": 43,
   "metadata": {},
   "outputs": [],
   "source": [
    "newdata = cm.diagonal()/cm.sum(axis=1)"
   ]
  },
  {
   "cell_type": "code",
   "execution_count": 44,
   "metadata": {},
   "outputs": [
    {
     "data": {
      "text/plain": [
       "array([100., 100., 100., 100., 100., 100., 100., 100., 100., 100., 100.,\n",
       "       100., 100., 100., 100., 100., 100., 100., 100., 100., 100., 100.,\n",
       "       100., 100., 100., 100., 100., 100., 100., 100., 100., 100., 100.,\n",
       "       100., 100.])"
      ]
     },
     "execution_count": 44,
     "metadata": {},
     "output_type": "execute_result"
    }
   ],
   "source": [
    "newdata*100"
   ]
  },
  {
   "cell_type": "code",
   "execution_count": 45,
   "metadata": {},
   "outputs": [
    {
     "name": "stdout",
     "output_type": "stream",
     "text": [
      "Class 10 acc is 100.00 %\n",
      "Class 11 acc is 100.00 %\n",
      "Class 12 acc is 100.00 %\n",
      "Class 13 acc is 100.00 %\n",
      "Class 14 acc is 100.00 %\n",
      "Class 15 acc is 100.00 %\n",
      "Class 16 acc is 100.00 %\n",
      "Class 17 acc is 100.00 %\n",
      "Class 18 acc is 100.00 %\n",
      "Class 19 acc is 100.00 %\n",
      "Class 20 acc is 100.00 %\n",
      "Class 21 acc is 100.00 %\n",
      "Class 22 acc is 100.00 %\n",
      "Class 23 acc is 100.00 %\n",
      "Class 24 acc is 100.00 %\n",
      "Class 25 acc is 100.00 %\n",
      "Class 26 acc is 100.00 %\n",
      "Class 27 acc is 100.00 %\n",
      "Class 28 acc is 100.00 %\n",
      "Class 29 acc is 100.00 %\n",
      "Class 30 acc is 100.00 %\n",
      "Class 31 acc is 100.00 %\n",
      "Class 32 acc is 100.00 %\n",
      "Class 33 acc is 100.00 %\n",
      "Class 34 acc is 100.00 %\n",
      "Class 35 acc is 100.00 %\n",
      "Class 36 acc is 100.00 %\n",
      "Class 37 acc is 100.00 %\n",
      "Class 38 acc is 100.00 %\n",
      "Class 39 acc is 100.00 %\n",
      "Class 40 acc is 100.00 %\n",
      "Class 41 acc is 100.00 %\n",
      "Class 42 acc is 100.00 %\n",
      "Class 43 acc is 100.00 %\n",
      "Class 44 acc is 100.00 %\n"
     ]
    }
   ],
   "source": [
    "for i in range(35):\n",
    "    print(f'Class {i+10} acc is {newdata[i]*100:.2f} %')"
   ]
  },
  {
   "cell_type": "code",
   "execution_count": null,
   "metadata": {},
   "outputs": [],
   "source": []
  }
 ],
 "metadata": {
  "kernelspec": {
   "display_name": "Python 3",
   "language": "python",
   "name": "python3"
  },
  "language_info": {
   "codemirror_mode": {
    "name": "ipython",
    "version": 3
   },
   "file_extension": ".py",
   "mimetype": "text/x-python",
   "name": "python",
   "nbconvert_exporter": "python",
   "pygments_lexer": "ipython3",
   "version": "3.8.5"
  }
 },
 "nbformat": 4,
 "nbformat_minor": 4
}
